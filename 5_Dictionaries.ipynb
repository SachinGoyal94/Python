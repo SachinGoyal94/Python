{
 "cells": [
  {
   "cell_type": "code",
   "id": "initial_id",
   "metadata": {
    "collapsed": true,
    "ExecuteTime": {
     "end_time": "2025-06-17T17:47:47.927192Z",
     "start_time": "2025-06-17T17:47:47.912848Z"
    }
   },
   "source": [
    "newdict={\"name\":\"krish\",\"age\":32,\"roll no\":11}\n",
    "print(type(newdict))\n",
    "print(newdict)\n",
    "print(newdict.keys())\n",
    "print(newdict.values())\n",
    "print(newdict.items())\n",
    "print(newdict[\"name\"])\n",
    "print(newdict.get(\"name\"))\n",
    "\n",
    "print(newdict.get(\"last name\"))\n",
    "print(newdict.get(\"last name\",\"unavailable\"))\n",
    "\n",
    "newdict[\"age\"]=50\n",
    "print(newdict)\n",
    "\n",
    "del newdict[\"age\"]\n",
    "print(newdict)\n",
    "\n",
    "#shallow copy\n",
    "print(\"shallow copy\")\n",
    "newdict_1=newdict.copy()\n",
    "newdict[\"name\"]=\"Harish\"\n",
    "print(newdict_1)\n",
    "print(newdict)\n",
    "\n"
   ],
   "outputs": [
    {
     "name": "stdout",
     "output_type": "stream",
     "text": [
      "<class 'dict'>\n",
      "{'name': 'krish', 'age': 32, 'roll no': 11}\n",
      "dict_keys(['name', 'age', 'roll no'])\n",
      "dict_values(['krish', 32, 11])\n",
      "dict_items([('name', 'krish'), ('age', 32), ('roll no', 11)])\n",
      "krish\n",
      "krish\n",
      "None\n",
      "unavailable\n",
      "{'name': 'krish', 'age': 50, 'roll no': 11}\n",
      "{'name': 'krish', 'roll no': 11}\n",
      "shallow copy\n",
      "{'name': 'krish', 'roll no': 11}\n",
      "{'name': 'Harish', 'roll no': 11}\n"
     ]
    }
   ],
   "execution_count": 21
  },
  {
   "metadata": {},
   "cell_type": "markdown",
   "source": "iterating over dictionaries",
   "id": "9404977063ef6b1e"
  },
  {
   "metadata": {
    "ExecuteTime": {
     "end_time": "2025-06-17T17:50:28.609816Z",
     "start_time": "2025-06-17T17:50:28.603561Z"
    }
   },
   "cell_type": "code",
   "source": [
    "for keys in newdict.keys():\n",
    "    print(keys)\n",
    "\n",
    "for values in newdict.values():\n",
    "    print(values)\n",
    "for keys,values in newdict.items():\n",
    "    print(f\"{keys}:{values}\")\n"
   ],
   "id": "a9309dd46d150a38",
   "outputs": [
    {
     "name": "stdout",
     "output_type": "stream",
     "text": [
      "name\n",
      "roll no\n",
      "Harish\n",
      "11\n",
      "name:Harish\n",
      "roll no:11\n"
     ]
    }
   ],
   "execution_count": 24
  },
  {
   "metadata": {},
   "cell_type": "markdown",
   "source": "Nested Dictionaries",
   "id": "bf5451fc4224d9c8"
  },
  {
   "metadata": {
    "ExecuteTime": {
     "end_time": "2025-06-17T17:55:37.273397Z",
     "start_time": "2025-06-17T17:55:37.265913Z"
    }
   },
   "cell_type": "code",
   "source": [
    "nested_dict={ \"student1\" : {\"name\":\"Sachin\",\"age\":21,\"Roll no\":1},\"student2\":{\"name\":\"Harish\",\"age\":22,\"Roll no\":2}}\n",
    "print(nested_dict)\n",
    "print(nested_dict.get(\"student1\"))\n",
    "print(nested_dict.get(\"student2\"))\n",
    "print(nested_dict.keys())\n",
    "print(nested_dict.values())\n",
    "\n",
    "print(nested_dict[\"student1\"][\"age\"])\n",
    "\n",
    "for student,info in nested_dict.items():\n",
    "    print(f\"{student}:{info}\")\n",
    "    for key,value in info.items():\n",
    "        print(f\"{key}:{values}\")\n"
   ],
   "id": "d1eb3c1388b89541",
   "outputs": [
    {
     "name": "stdout",
     "output_type": "stream",
     "text": [
      "{'student1': {'name': 'Sachin', 'age': 21, 'Roll no': 1}, 'student2': {'name': 'Harish', 'age': 22, 'Roll no': 2}}\n",
      "{'name': 'Sachin', 'age': 21, 'Roll no': 1}\n",
      "{'name': 'Harish', 'age': 22, 'Roll no': 2}\n",
      "dict_keys(['student1', 'student2'])\n",
      "dict_values([{'name': 'Sachin', 'age': 21, 'Roll no': 1}, {'name': 'Harish', 'age': 22, 'Roll no': 2}])\n",
      "21\n",
      "student1:{'name': 'Sachin', 'age': 21, 'Roll no': 1}\n",
      "name:11\n",
      "age:11\n",
      "Roll no:11\n",
      "student2:{'name': 'Harish', 'age': 22, 'Roll no': 2}\n",
      "name:11\n",
      "age:11\n",
      "Roll no:11\n"
     ]
    }
   ],
   "execution_count": 33
  },
  {
   "metadata": {},
   "cell_type": "markdown",
   "source": "Dictionary Comprehension",
   "id": "302b524c03674a6"
  },
  {
   "metadata": {
    "ExecuteTime": {
     "end_time": "2025-06-17T18:08:32.326481Z",
     "start_time": "2025-06-17T18:08:32.319019Z"
    }
   },
   "cell_type": "code",
   "source": [
    "dict_new={x:x**2 for x in range(5) if x%2==0}\n",
    "print(dict_new)"
   ],
   "id": "97e34106970f50f2",
   "outputs": [
    {
     "name": "stdout",
     "output_type": "stream",
     "text": [
      "{0: 0, 2: 4, 4: 16}\n"
     ]
    }
   ],
   "execution_count": 35
  },
  {
   "metadata": {
    "ExecuteTime": {
     "end_time": "2025-06-17T18:13:19.568510Z",
     "start_time": "2025-06-17T18:13:19.562536Z"
    }
   },
   "cell_type": "code",
   "source": [
    "numbers=[1,1,1,2,2,3,4,5,5,6,7,8,9]\n",
    "frequency={}\n",
    "for number in numbers:\n",
    "    if number not in frequency:\n",
    "        frequency[number]=1\n",
    "    else:\n",
    "        frequency[number]+= 1\n",
    "print(frequency)"
   ],
   "id": "159e27f5a9f17272",
   "outputs": [
    {
     "name": "stdout",
     "output_type": "stream",
     "text": [
      "{1: 3, 2: 2, 3: 1, 4: 1, 5: 2, 6: 1, 7: 1, 8: 1, 9: 1}\n"
     ]
    }
   ],
   "execution_count": 68
  },
  {
   "metadata": {},
   "cell_type": "markdown",
   "source": "merging dictionaries",
   "id": "4400ea621fe8e4b7"
  },
  {
   "metadata": {
    "ExecuteTime": {
     "end_time": "2025-06-17T18:17:36.531302Z",
     "start_time": "2025-06-17T18:17:36.524298Z"
    }
   },
   "cell_type": "code",
   "source": [
    "dict1={\"name\":\"Sachin\",\"age\":21}\n",
    "dict2={\"Roll no\":11,\"course\":\"BE\"}\n",
    "merged_dict={**dict1,**dict2}\n",
    "print(merged_dict)"
   ],
   "id": "6ec17b1fbbc0abbe",
   "outputs": [
    {
     "name": "stdout",
     "output_type": "stream",
     "text": [
      "{'name': 'Sachin', 'age': 21, 'Roll no': 11, 'course': 'BE'}\n"
     ]
    }
   ],
   "execution_count": 78
  }
 ],
 "metadata": {
  "kernelspec": {
   "display_name": "Python 3",
   "language": "python",
   "name": "python3"
  },
  "language_info": {
   "codemirror_mode": {
    "name": "ipython",
    "version": 2
   },
   "file_extension": ".py",
   "mimetype": "text/x-python",
   "name": "python",
   "nbconvert_exporter": "python",
   "pygments_lexer": "ipython2",
   "version": "2.7.6"
  }
 },
 "nbformat": 4,
 "nbformat_minor": 5
}
