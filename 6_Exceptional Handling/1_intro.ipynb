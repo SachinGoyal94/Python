{
 "cells": [
  {
   "metadata": {},
   "cell_type": "markdown",
   "source": [
    "Type of Exceptions\n",
    "\n",
    "1.Zero Divisible Error\n",
    "\n",
    "2.Value Error\n",
    "\n",
    "3.Type Error\n",
    "\n",
    "4.File Not Found Error"
   ],
   "id": "35f614e2f9d3beee"
  },
  {
   "metadata": {},
   "cell_type": "code",
   "outputs": [],
   "execution_count": null,
   "source": [
    "try:\n",
    "    c=1/0\n",
    "except Exception:\n",
    "    print(\"division by zero\")"
   ],
   "id": "initial_id"
  },
  {
   "metadata": {
    "ExecuteTime": {
     "end_time": "2025-06-20T15:21:13.202600Z",
     "start_time": "2025-06-20T15:21:13.196787Z"
    }
   },
   "cell_type": "code",
   "source": [
    "try:\n",
    "    c=1/1\n",
    "    q=b\n",
    "except ZeroDivisionError:\n",
    "    print(\"division by zero\")\n",
    "except ValueError:\n",
    "    print(\"value error\")\n",
    "except Exception as e:  #by default\n",
    "    print(e)"
   ],
   "id": "62240d1cb925abbd",
   "outputs": [
    {
     "name": "stdout",
     "output_type": "stream",
     "text": [
      "name 'b' is not defined\n"
     ]
    }
   ],
   "execution_count": 2
  },
  {
   "metadata": {
    "ExecuteTime": {
     "end_time": "2025-06-20T15:33:04.681403Z",
     "start_time": "2025-06-20T15:33:01.742856Z"
    }
   },
   "cell_type": "code",
   "source": [
    "#if there is no error else block will be executed\n",
    "#if there is an error then else will not be executed\n",
    "#final block will be exectued whatever the case is\n",
    "try:\n",
    "    num=int(input(\"Enter a number:\"))\n",
    "    c=1/num\n",
    "except ZeroDivisionError:\n",
    "    print(\"division by zero\")\n",
    "except ValueError:\n",
    "    print(\"value error\")\n",
    "except Exception as e:  #by default\n",
    "    print(e)\n",
    "else:\n",
    "    print(f\"The final result is :{c}\")\n",
    "finally:\n",
    "    print(\"The progoram is done \")"
   ],
   "id": "b0a6f588b766d2ce",
   "outputs": [
    {
     "name": "stdout",
     "output_type": "stream",
     "text": [
      "The final result is :0.1\n",
      "The progoram is done \n"
     ]
    }
   ],
   "execution_count": 6
  },
  {
   "metadata": {
    "ExecuteTime": {
     "end_time": "2025-06-20T15:42:21.856588Z",
     "start_time": "2025-06-20T15:42:21.848340Z"
    }
   },
   "cell_type": "code",
   "source": [
    "try:\n",
    "    file=open('file.txt','r')\n",
    "    content=file.read()\n",
    "    print(content)\n",
    "except FileNotFoundError:\n",
    "    print(\"File not found\")\n",
    "finally:\n",
    "    if 'file' in locals() or not file.closed():\n",
    "        file.close()\n",
    "        print(\"file closed\")"
   ],
   "id": "63cb42ba60937bf9",
   "outputs": [
    {
     "name": "stdout",
     "output_type": "stream",
     "text": [
      "\n",
      "file closed\n"
     ]
    }
   ],
   "execution_count": 10
  }
 ],
 "metadata": {
  "kernelspec": {
   "display_name": "Python 3",
   "language": "python",
   "name": "python3"
  },
  "language_info": {
   "codemirror_mode": {
    "name": "ipython",
    "version": 2
   },
   "file_extension": ".py",
   "mimetype": "text/x-python",
   "name": "python",
   "nbconvert_exporter": "python",
   "pygments_lexer": "ipython2",
   "version": "2.7.6"
  }
 },
 "nbformat": 4,
 "nbformat_minor": 5
}
