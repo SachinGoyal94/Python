{
 "cells": [
  {
   "cell_type": "code",
   "id": "initial_id",
   "metadata": {
    "collapsed": true,
    "ExecuteTime": {
     "end_time": "2025-06-18T20:10:36.372326Z",
     "start_time": "2025-06-18T20:10:36.357803Z"
    }
   },
   "source": [
    "def add(a,b,c):\n",
    "    return a+b+c\n",
    "sum=add(1,2,3)\n",
    "print(sum)\n",
    "\n",
    "def greet(name=\"Sachin\"):\n",
    "    print(f\"Hello {name}\")\n",
    "greet(\"krish\")\n",
    "greet()\n",
    "\n",
    "def multi(a,b,c):\n",
    "    return (a*b),c\n",
    "print(multi(4,2,3))"
   ],
   "outputs": [
    {
     "name": "stdout",
     "output_type": "stream",
     "text": [
      "6\n",
      "Hello krish\n",
      "Hello Sachin\n",
      "(8, 3)\n",
      "Hello Sachin\n",
      "Hello Raghav\n",
      "Hello Krish\n",
      "Hello a:1\n",
      "Hello b:2\n",
      "Hello c:3\n",
      "Hello 1\n",
      "Hello 2\n",
      "Hello 3\n",
      "Hello 4\n",
      "Hello 5\n",
      "Hello a:1\n",
      "Hello b:2\n",
      "Hello c:3\n"
     ]
    }
   ],
   "execution_count": 12
  },
  {
   "metadata": {
    "ExecuteTime": {
     "end_time": "2025-06-18T20:11:20.689914Z",
     "start_time": "2025-06-18T20:11:20.680935Z"
    }
   },
   "cell_type": "code",
   "source": [
    "#positional arg when no of arg in fun. is more\n",
    "def manygreet(*args):\n",
    "    for arg in args:\n",
    "        print(f\"Hello {arg}\")\n",
    "manygreet(\"Sachin\",\"Raghav\",\"Krish\")\n",
    "#keyword arg for multi key val arg's\n",
    "def manygreets(**kwargs):\n",
    "    for key,val in kwargs.items():\n",
    "        print(f\"Hello {key}:{val}\")\n",
    "manygreets(a=1,b=2,c=3)\n",
    "\n",
    "def lastgreets(*positional,**kwargs):\n",
    "    for number in positional:\n",
    "        print(f\"Hello {number}\")\n",
    "    for key,value in kwargs.items():\n",
    "        print(f\"Hello {key}:{value}\")\n",
    "lastgreets(11,12,13,14,15,a=21,b=22,c=23)"
   ],
   "id": "bc5d8e880f52394e",
   "outputs": [
    {
     "name": "stdout",
     "output_type": "stream",
     "text": [
      "Hello Sachin\n",
      "Hello Raghav\n",
      "Hello Krish\n",
      "Hello a:1\n",
      "Hello b:2\n",
      "Hello c:3\n",
      "Hello 11\n",
      "Hello 12\n",
      "Hello 13\n",
      "Hello 14\n",
      "Hello 15\n",
      "Hello a:21\n",
      "Hello b:22\n",
      "Hello c:23\n"
     ]
    }
   ],
   "execution_count": 14
  }
 ],
 "metadata": {
  "kernelspec": {
   "display_name": "Python 3",
   "language": "python",
   "name": "python3"
  },
  "language_info": {
   "codemirror_mode": {
    "name": "ipython",
    "version": 2
   },
   "file_extension": ".py",
   "mimetype": "text/x-python",
   "name": "python",
   "nbconvert_exporter": "python",
   "pygments_lexer": "ipython2",
   "version": "2.7.6"
  }
 },
 "nbformat": 4,
 "nbformat_minor": 5
}
