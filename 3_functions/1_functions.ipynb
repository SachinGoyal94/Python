{
 "cells": [
  {
   "cell_type": "code",
   "id": "initial_id",
   "metadata": {
    "collapsed": true,
    "ExecuteTime": {
     "end_time": "2025-06-18T20:10:36.372326Z",
     "start_time": "2025-06-18T20:10:36.357803Z"
    }
   },
   "source": [
    "def add(a,b,c):\n",
    "    return a+b+c\n",
    "sum=add(1,2,3)\n",
    "print(sum)\n",
    "\n",
    "def greet(name=\"Sachin\"):\n",
    "    print(f\"Hello {name}\")\n",
    "greet(\"krish\")\n",
    "greet()\n",
    "\n",
    "def multi(a,b,c):\n",
    "    return (a*b),c\n",
    "print(multi(4,2,3))"
   ],
   "outputs": [
    {
     "name": "stdout",
     "output_type": "stream",
     "text": [
      "6\n",
      "Hello krish\n",
      "Hello Sachin\n",
      "(8, 3)\n",
      "Hello Sachin\n",
      "Hello Raghav\n",
      "Hello Krish\n",
      "Hello a:1\n",
      "Hello b:2\n",
      "Hello c:3\n",
      "Hello 1\n",
      "Hello 2\n",
      "Hello 3\n",
      "Hello 4\n",
      "Hello 5\n",
      "Hello a:1\n",
      "Hello b:2\n",
      "Hello c:3\n"
     ]
    }
   ],
   "execution_count": 12
  },
  {
   "metadata": {
    "ExecuteTime": {
     "end_time": "2025-06-18T20:11:20.689914Z",
     "start_time": "2025-06-18T20:11:20.680935Z"
    }
   },
   "cell_type": "code",
   "source": [
    "#positional arg when no of arg in fun. is more\n",
    "def manygreet(*args):\n",
    "    for arg in args:\n",
    "        print(f\"Hello {arg}\")\n",
    "manygreet(\"Sachin\",\"Raghav\",\"Krish\")\n",
    "#keyword arg for multi key val arg's\n",
    "def manygreets(**kwargs):\n",
    "    for key,val in kwargs.items():\n",
    "        print(f\"Hello {key}:{val}\")\n",
    "manygreets(a=1,b=2,c=3)\n",
    "\n",
    "def lastgreets(*positional,**kwargs):\n",
    "    for number in positional:\n",
    "        print(f\"Hello {number}\")\n",
    "    for key,value in kwargs.items():\n",
    "        print(f\"Hello {key}:{value}\")\n",
    "lastgreets(11,12,13,14,15,a=21,b=22,c=23)"
   ],
   "id": "bc5d8e880f52394e",
   "outputs": [
    {
     "name": "stdout",
     "output_type": "stream",
     "text": [
      "Hello Sachin\n",
      "Hello Raghav\n",
      "Hello Krish\n",
      "Hello a:1\n",
      "Hello b:2\n",
      "Hello c:3\n",
      "Hello 11\n",
      "Hello 12\n",
      "Hello 13\n",
      "Hello 14\n",
      "Hello 15\n",
      "Hello a:21\n",
      "Hello b:22\n",
      "Hello c:23\n"
     ]
    }
   ],
   "execution_count": 14
  },
  {
   "metadata": {
    "ExecuteTime": {
     "end_time": "2025-06-19T09:50:45.958047Z",
     "start_time": "2025-06-19T09:50:45.950470Z"
    }
   },
   "cell_type": "code",
   "source": [
    "#def addition(a,b):\n",
    "#    return a+b\n",
    "addition=lambda a,b:a+b\n",
    "equality=lambda a,b:a==b\n",
    "\n",
    "print(type(addition))\n",
    "print(addition(2,3))\n",
    "print(equality(3,4,))\n"
   ],
   "id": "b2cca01ce3a61d76",
   "outputs": [
    {
     "name": "stdout",
     "output_type": "stream",
     "text": [
      "<class 'function'>\n",
      "5\n",
      "False\n"
     ]
    }
   ],
   "execution_count": 1
  },
  {
   "metadata": {},
   "cell_type": "markdown",
   "source": "map function maps every element of the data stucture to the the function",
   "id": "488b48099b095f17"
  },
  {
   "metadata": {},
   "cell_type": "code",
   "outputs": [
    {
     "name": "stdout",
     "output_type": "stream",
     "text": [
      "('APPLE', 'BANANA')\n"
     ]
    }
   ],
   "execution_count": 64,
   "source": [
    "words=['apple','banana']\n",
    "print(tuple(map(str.upper,words)))"
   ],
   "id": "604da616b0c5fe41"
  },
  {
   "metadata": {
    "ExecuteTime": {
     "end_time": "2025-06-19T12:41:06.238447Z",
     "start_time": "2025-06-19T12:41:06.224962Z"
    }
   },
   "cell_type": "code",
   "source": [
    "def expo(*args):\n",
    "    return tuple(arg**2 for arg in args)\n",
    "lists=[2,3,4]\n",
    "print(expo(*lists))\n",
    "\n",
    "#or\n",
    "\n",
    "listsw=[2,3,4]\n",
    "print(tuple(map(lambda x:x**2,listsw)))\n",
    "\n",
    "num1=[1,2,3,4]\n",
    "num2=[11,12,13,14]\n",
    "result=(tuple(map(lambda x,y:x+y,num1,num2)))\n",
    "print(result)"
   ],
   "id": "bbdea0faa3bb43e8",
   "outputs": [
    {
     "name": "stdout",
     "output_type": "stream",
     "text": [
      "(4, 9, 16)\n",
      "(4, 9, 16)\n",
      "(12, 14, 16, 18)\n"
     ]
    }
   ],
   "execution_count": 89
  },
  {
   "metadata": {
    "ExecuteTime": {
     "end_time": "2025-06-19T11:18:54.628299Z",
     "start_time": "2025-06-19T11:18:54.620787Z"
    }
   },
   "cell_type": "code",
   "source": [
    "strings=['1','2','3','4']\n",
    "print(tuple(map(int,strings)))\n",
    "\n",
    "def getname(person):\n",
    "    return person['name']\n",
    "details=[{'name':'Sachin','age':21},{'name':'Krish','age':31}]\n",
    "print(tuple(map(getname,details)))"
   ],
   "id": "9e226b85fc38b323",
   "outputs": [
    {
     "name": "stdout",
     "output_type": "stream",
     "text": [
      "(1, 2, 3, 4)\n",
      "('Sachin', 'Krish')\n"
     ]
    }
   ],
   "execution_count": 85
  },
  {
   "metadata": {
    "ExecuteTime": {
     "end_time": "2025-06-19T13:45:58.702353Z",
     "start_time": "2025-06-19T13:45:58.672697Z"
    }
   },
   "cell_type": "code",
   "source": [
    "lists=[1,2,3,4,5,6,7,8,9,10]\n",
    "print(tuple(filter(lambda x:x%2==0,lists)))\n",
    "print(tuple(filter(lambda x:x%2==0 and x>2,lists)))\n",
    "\n",
    "people=[\n",
    "    {'name':'Sachin','age':21},\n",
    "    {'name':'krish','age':31}\n",
    "]\n",
    "def age_greater(person):\n",
    "    return person['age']>21\n",
    "print(tuple(filter(age_greater,people)))\n"
   ],
   "id": "9a0eb71f926625b4",
   "outputs": [
    {
     "name": "stdout",
     "output_type": "stream",
     "text": [
      "(2, 4, 6, 8, 10)\n",
      "(4, 6, 8, 10)\n",
      "({'name': 'krish', 'age': 31},)\n"
     ]
    }
   ],
   "execution_count": 95
  },
  {
   "metadata": {
    "ExecuteTime": {
     "end_time": "2025-06-19T14:01:20.917739Z",
     "start_time": "2025-06-19T14:01:20.903215Z"
    }
   },
   "cell_type": "code",
   "source": [
    "password='A@1sach'\n",
    "def check(passw):\n",
    "    if len(passw)<8:\n",
    "        return False\n",
    "    if not any(char.islower() for char in passw ):\n",
    "        return 0\n",
    "    if not any(c.isupper() for c in passw ):\n",
    "        return 0\n",
    "    if not any(c in '!@#$%&*' for c in passw):\n",
    "        return 0\n",
    "    else:\n",
    "        return 1\n",
    "lists=['jowfme21aA#','ewik','20wdqo*']\n",
    "print(tuple(map(check,lists)))\n",
    "print(tuple(filter(check,lists)))\n"
   ],
   "id": "5e3a784c718e4ecd",
   "outputs": [
    {
     "name": "stdout",
     "output_type": "stream",
     "text": [
      "(1, False, False)\n",
      "('jowfme21aA#',)\n"
     ]
    }
   ],
   "execution_count": 101
  },
  {
   "metadata": {
    "ExecuteTime": {
     "end_time": "2025-06-19T14:08:16.728682Z",
     "start_time": "2025-06-19T14:08:16.718469Z"
    }
   },
   "cell_type": "code",
   "source": [
    "#is palindrome\n",
    "string=\"aabraarbaa\"\n",
    "def check(s):\n",
    "    s=s.lower().replace(\" \",\"\")\n",
    "    return s==s[::-1]\n",
    "print(check(string))\n"
   ],
   "id": "b7386dc66ca32f56",
   "outputs": [
    {
     "name": "stdout",
     "output_type": "stream",
     "text": [
      "True\n"
     ]
    }
   ],
   "execution_count": 3
  },
  {
   "metadata": {},
   "cell_type": "markdown",
   "source": "do these questions after file handling\n",
   "id": "b82c87fb2fb34bea"
  },
  {
   "metadata": {},
   "cell_type": "code",
   "outputs": [
    {
     "name": "stdout",
     "output_type": "stream",
     "text": [
      "True\n",
      "False\n"
     ]
    }
   ],
   "execution_count": 4,
   "source": [
    "import re\n",
    "\n",
    "# Email validation function\n",
    "def is_valid_email(email):\n",
    "    \"\"\"This function checks if the email is valid.\"\"\"\n",
    "    pattern = r'^[a-zA-Z0-9_.+-]+@[a-zA-Z0-9-]+\\.[a-zA-Z0-9-.]+$'\n",
    "    return re.match(pattern, email) is not None\n",
    "\n",
    "# Calling the function\n",
    "print(is_valid_email(\"test@example.com\"))  # Output: True\n",
    "print(is_valid_email(\"invalid-email\"))  # Output: False"
   ],
   "id": "c4a1b78371ece687"
  },
  {
   "metadata": {},
   "cell_type": "code",
   "outputs": [
    {
     "ename": "FileNotFoundError",
     "evalue": "[Errno 2] No such file or directory: 'sample.txt'",
     "output_type": "error",
     "traceback": [
      "\u001B[31m---------------------------------------------------------------------------\u001B[39m",
      "\u001B[31mFileNotFoundError\u001B[39m                         Traceback (most recent call last)",
      "\u001B[36mCell\u001B[39m\u001B[36m \u001B[39m\u001B[32mIn[5]\u001B[39m\u001B[32m, line 13\u001B[39m\n\u001B[32m     10\u001B[39m     \u001B[38;5;28;01mreturn\u001B[39;00m word_count\n\u001B[32m     12\u001B[39m filepath=\u001B[33m'\u001B[39m\u001B[33msample.txt\u001B[39m\u001B[33m'\u001B[39m\n\u001B[32m---> \u001B[39m\u001B[32m13\u001B[39m word_frequency=\u001B[43mcount_word_frequency\u001B[49m\u001B[43m(\u001B[49m\u001B[43mfilepath\u001B[49m\u001B[43m)\u001B[49m\n\u001B[32m     14\u001B[39m \u001B[38;5;28mprint\u001B[39m(word_frequency)\n",
      "\u001B[36mCell\u001B[39m\u001B[36m \u001B[39m\u001B[32mIn[5]\u001B[39m\u001B[32m, line 3\u001B[39m, in \u001B[36mcount_word_frequency\u001B[39m\u001B[34m(file_path)\u001B[39m\n\u001B[32m      1\u001B[39m \u001B[38;5;28;01mdef\u001B[39;00m\u001B[38;5;250m \u001B[39m\u001B[34mcount_word_frequency\u001B[39m(file_path):\n\u001B[32m      2\u001B[39m     word_count={}\n\u001B[32m----> \u001B[39m\u001B[32m3\u001B[39m     \u001B[38;5;28;01mwith\u001B[39;00m \u001B[38;5;28;43mopen\u001B[39;49m\u001B[43m(\u001B[49m\u001B[43mfile_path\u001B[49m\u001B[43m,\u001B[49m\u001B[33;43m'\u001B[39;49m\u001B[33;43mr\u001B[39;49m\u001B[33;43m'\u001B[39;49m\u001B[43m)\u001B[49m \u001B[38;5;28;01mas\u001B[39;00m file:\n\u001B[32m      4\u001B[39m         \u001B[38;5;28;01mfor\u001B[39;00m line \u001B[38;5;129;01min\u001B[39;00m file:\n\u001B[32m      5\u001B[39m             words=line.split()\n",
      "\u001B[36mFile \u001B[39m\u001B[32mD:\\coding\\Python\\.venv\\Lib\\site-packages\\IPython\\core\\interactiveshell.py:327\u001B[39m, in \u001B[36m_modified_open\u001B[39m\u001B[34m(file, *args, **kwargs)\u001B[39m\n\u001B[32m    320\u001B[39m \u001B[38;5;28;01mif\u001B[39;00m file \u001B[38;5;129;01min\u001B[39;00m {\u001B[32m0\u001B[39m, \u001B[32m1\u001B[39m, \u001B[32m2\u001B[39m}:\n\u001B[32m    321\u001B[39m     \u001B[38;5;28;01mraise\u001B[39;00m \u001B[38;5;167;01mValueError\u001B[39;00m(\n\u001B[32m    322\u001B[39m         \u001B[33mf\u001B[39m\u001B[33m\"\u001B[39m\u001B[33mIPython won\u001B[39m\u001B[33m'\u001B[39m\u001B[33mt let you open fd=\u001B[39m\u001B[38;5;132;01m{\u001B[39;00mfile\u001B[38;5;132;01m}\u001B[39;00m\u001B[33m by default \u001B[39m\u001B[33m\"\u001B[39m\n\u001B[32m    323\u001B[39m         \u001B[33m\"\u001B[39m\u001B[33mas it is likely to crash IPython. If you know what you are doing, \u001B[39m\u001B[33m\"\u001B[39m\n\u001B[32m    324\u001B[39m         \u001B[33m\"\u001B[39m\u001B[33myou can use builtins\u001B[39m\u001B[33m'\u001B[39m\u001B[33m open.\u001B[39m\u001B[33m\"\u001B[39m\n\u001B[32m    325\u001B[39m     )\n\u001B[32m--> \u001B[39m\u001B[32m327\u001B[39m \u001B[38;5;28;01mreturn\u001B[39;00m \u001B[43mio_open\u001B[49m\u001B[43m(\u001B[49m\u001B[43mfile\u001B[49m\u001B[43m,\u001B[49m\u001B[43m \u001B[49m\u001B[43m*\u001B[49m\u001B[43margs\u001B[49m\u001B[43m,\u001B[49m\u001B[43m \u001B[49m\u001B[43m*\u001B[49m\u001B[43m*\u001B[49m\u001B[43mkwargs\u001B[49m\u001B[43m)\u001B[49m\n",
      "\u001B[31mFileNotFoundError\u001B[39m: [Errno 2] No such file or directory: 'sample.txt'"
     ]
    }
   ],
   "execution_count": 5,
   "source": [
    "def count_word_frequency(file_path):\n",
    "    word_count={}\n",
    "    with open(file_path,'r') as file:\n",
    "        for line in file:\n",
    "            words=line.split()\n",
    "            for word in words:\n",
    "                word=word.lower().strip('.,!?;:\"\\'')\n",
    "                word_count[word]=word_count.get(word,0)+1\n",
    "\n",
    "    return word_count\n",
    "\n",
    "filepath='sample.txt'\n",
    "word_frequency=count_word_frequency(filepath)\n",
    "print(word_frequency)"
   ],
   "id": "5629c66cb0b3626a"
  }
 ],
 "metadata": {
  "kernelspec": {
   "display_name": "Python 3",
   "language": "python",
   "name": "python3"
  },
  "language_info": {
   "codemirror_mode": {
    "name": "ipython",
    "version": 2
   },
   "file_extension": ".py",
   "mimetype": "text/x-python",
   "name": "python",
   "nbconvert_exporter": "python",
   "pygments_lexer": "ipython2",
   "version": "2.7.6"
  }
 },
 "nbformat": 4,
 "nbformat_minor": 5
}
