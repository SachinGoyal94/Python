{
 "nbformat": 4,
 "nbformat_minor": 0,
 "metadata": {
  "colab": {
   "provenance": [],
   "authorship_tag": "ABX9TyNDq7bvSiw8lGag/GbAFY+2",
   "include_colab_link": true
  },
  "kernelspec": {
   "name": "python3",
   "display_name": "Python 3"
  },
  "language_info": {
   "name": "python"
  }
 },
 "cells": [
  {
   "cell_type": "markdown",
   "metadata": {
    "id": "view-in-github",
    "colab_type": "text"
   },
   "source": [
    "<a href=\"https://colab.research.google.com/github/SachinGoyal94/Python/blob/main/1_python.ipynb\" target=\"_parent\"><img src=\"https://colab.research.google.com/assets/colab-badge.svg\" alt=\"Open In Colab\"/></a>"
   ]
  },
  {
   "cell_type": "code",
   "source": [
    "'''\n",
    "Welcome to a fantastic journey of learning Python\n",
    "'''"
   ],
   "metadata": {
    "id": "OnJnAPhN-scp"
   },
   "outputs": [],
   "execution_count": null
  },
  {
   "cell_type": "code",
   "metadata": {
    "colab": {
     "base_uri": "https://localhost:8080/"
    },
    "id": "AUJNmVKj7-id",
    "outputId": "b40c0a6f-0c95-4696-9013-461a3344850d",
    "jupyter": {
     "is_executing": true
    }
   },
   "source": [
    "a=10;b=20\n",
    "print(a)\n",
    "print(b)\n",
    "print(a==b,type(a==b))"
   ],
   "outputs": [],
   "execution_count": null
  },
  {
   "cell_type": "code",
   "source": [
    "a=1+2+3+\\\n",
    "4+5\n",
    "print(a)"
   ],
   "metadata": {
    "colab": {
     "base_uri": "https://localhost:8080/"
    },
    "id": "FmaQIKY39wK-",
    "outputId": "7651911b-26d9-47f4-ba7e-865e77560cf1"
   },
   "outputs": [],
   "execution_count": null
  },
  {
   "cell_type": "code",
   "source": [
    "age=int(input(\"Enter your age\"))\n",
    "if(age>18):\n",
    "  print(\"major\",age)\n",
    "elif age<18 and age>13:\n",
    "  print(\"teenager\",age)\n",
    "else:\n",
    "  print(\"minor\",age)\n",
    "print(type(age))"
   ],
   "metadata": {
    "colab": {
     "base_uri": "https://localhost:8080/"
    },
    "id": "EiWS00C892UM",
    "outputId": "e8baca3e-21e1-42c6-ce33-032d17553141"
   },
   "outputs": [],
   "execution_count": null
  },
  {
   "cell_type": "code",
   "source": [
    "type(age)"
   ],
   "metadata": {
    "colab": {
     "base_uri": "https://localhost:8080/"
    },
    "id": "ZZaApjrd-Obh",
    "outputId": "7d104153-559e-45c5-d893-d0e3792366ef"
   },
   "outputs": [],
   "execution_count": null
  },
  {
   "cell_type": "code",
   "source": [
    "###   TypeConversions  age=datatype(value)\n",
    "age =25\n",
    "strings=str(age)\n",
    "print(strings)\n",
    "value=\"Sachin\"\n",
    "name=str(value)\n",
    "print(name)\n",
    "print(\"concatenating string\",value+str(age))\n",
    "\n",
    "dir(\"hello\") #it provides all the attribute or the methods related to the datatype"
   ],
   "metadata": {
    "colab": {
     "base_uri": "https://localhost:8080/"
    },
    "id": "mvRjW_uSCY0-",
    "outputId": "a55bb298-32dc-42af-e373-74244b489729",
    "ExecuteTime": {
     "end_time": "2025-06-21T05:38:43.621382Z",
     "start_time": "2025-06-21T05:38:43.609348Z"
    }
   },
   "outputs": [
    {
     "name": "stdout",
     "output_type": "stream",
     "text": [
      "25\n",
      "Sachin\n",
      "concatenating string Sachin25\n"
     ]
    },
    {
     "data": {
      "text/plain": [
       "['__add__',\n",
       " '__class__',\n",
       " '__contains__',\n",
       " '__delattr__',\n",
       " '__dir__',\n",
       " '__doc__',\n",
       " '__eq__',\n",
       " '__format__',\n",
       " '__ge__',\n",
       " '__getattribute__',\n",
       " '__getitem__',\n",
       " '__getnewargs__',\n",
       " '__getstate__',\n",
       " '__gt__',\n",
       " '__hash__',\n",
       " '__init__',\n",
       " '__init_subclass__',\n",
       " '__iter__',\n",
       " '__le__',\n",
       " '__len__',\n",
       " '__lt__',\n",
       " '__mod__',\n",
       " '__mul__',\n",
       " '__ne__',\n",
       " '__new__',\n",
       " '__reduce__',\n",
       " '__reduce_ex__',\n",
       " '__repr__',\n",
       " '__rmod__',\n",
       " '__rmul__',\n",
       " '__setattr__',\n",
       " '__sizeof__',\n",
       " '__str__',\n",
       " '__subclasshook__',\n",
       " 'capitalize',\n",
       " 'casefold',\n",
       " 'center',\n",
       " 'count',\n",
       " 'encode',\n",
       " 'endswith',\n",
       " 'expandtabs',\n",
       " 'find',\n",
       " 'format',\n",
       " 'format_map',\n",
       " 'index',\n",
       " 'isalnum',\n",
       " 'isalpha',\n",
       " 'isascii',\n",
       " 'isdecimal',\n",
       " 'isdigit',\n",
       " 'isidentifier',\n",
       " 'islower',\n",
       " 'isnumeric',\n",
       " 'isprintable',\n",
       " 'isspace',\n",
       " 'istitle',\n",
       " 'isupper',\n",
       " 'join',\n",
       " 'ljust',\n",
       " 'lower',\n",
       " 'lstrip',\n",
       " 'maketrans',\n",
       " 'partition',\n",
       " 'removeprefix',\n",
       " 'removesuffix',\n",
       " 'replace',\n",
       " 'rfind',\n",
       " 'rindex',\n",
       " 'rjust',\n",
       " 'rpartition',\n",
       " 'rsplit',\n",
       " 'rstrip',\n",
       " 'split',\n",
       " 'splitlines',\n",
       " 'startswith',\n",
       " 'strip',\n",
       " 'swapcase',\n",
       " 'title',\n",
       " 'translate',\n",
       " 'upper',\n",
       " 'zfill']"
      ]
     },
     "execution_count": 1,
     "metadata": {},
     "output_type": "execute_result"
    }
   ],
   "execution_count": 1
  },
  {
   "cell_type": "code",
   "source": [
    "num1 = float(input(\"Enter first number: \"))\n",
    "num2 = float(input(\"Enter second number: \"))\n",
    "\n",
    "# Performing arithmetic operations\n",
    "addition = num1 + num2\n",
    "subtraction = num1 - num2\n",
    "multiplication = num1 * num2\n",
    "division = num1 / num2\n",
    "floor_division = num1 // num2\n",
    "modulus = num1 % num2\n",
    "exponentiation = num1 ** num2\n",
    "\n",
    "# Displaying results\n",
    "print(\"Addition:\", addition)\n",
    "print(\"Subtraction:\", subtraction)\n",
    "print(\"Multiplication:\", multiplication)\n",
    "print(\"Division:\", division)\n",
    "print(\"Floor Division:\", floor_division)\n",
    "print(\"Modulus:\", modulus)\n",
    "print(\"Exponentiation:\", exponentiation)"
   ],
   "metadata": {
    "colab": {
     "base_uri": "https://localhost:8080/"
    },
    "id": "qFpEjTVzGnwO",
    "outputId": "07dcb892-97c6-41be-e766-b5c0677a272f"
   },
   "outputs": [],
   "execution_count": null
  },
  {
   "cell_type": "code",
   "source": [
    "X=1\n",
    "Y=0\n",
    "print( X or Y )\n",
    "print( X and Y)\n",
    "print( not X)\n",
    "print( X!=Y,X>Y,X<Y,X>=Y,X<=Y)"
   ],
   "metadata": {
    "colab": {
     "base_uri": "https://localhost:8080/"
    },
    "id": "xH-O_FpqGry1",
    "outputId": "dfd68d95-7951-420e-e9c5-a9e59465117d"
   },
   "outputs": [],
   "execution_count": null
  },
  {
   "cell_type": "code",
   "source": [
    "for i in range(5):\n",
    "  print(i)"
   ],
   "metadata": {
    "colab": {
     "base_uri": "https://localhost:8080/"
    },
    "id": "uGd70_wDQW6_",
    "outputId": "306df4e7-ec06-43ab-9f5b-692d4532676f"
   },
   "outputs": [],
   "execution_count": null
  },
  {
   "cell_type": "code",
   "source": [
    "for i in range(1,10,2):\n",
    "  if i==5:\n",
    "    break\n",
    "  print(i)"
   ],
   "metadata": {
    "colab": {
     "base_uri": "https://localhost:8080/"
    },
    "id": "EKIM8xmgQg0E",
    "outputId": "05d47679-a336-418b-9699-f695fd8bba53"
   },
   "outputs": [],
   "execution_count": null
  },
  {
   "cell_type": "code",
   "source": [
    "for i in \"Sachin Goyal\":\n",
    "  print(i)"
   ],
   "metadata": {
    "colab": {
     "base_uri": "https://localhost:8080/"
    },
    "id": "nPG8w8TOQjEr",
    "outputId": "48d9b119-b6a8-4251-db94-e2d8fae1eda5"
   },
   "outputs": [],
   "execution_count": null
  },
  {
   "cell_type": "code",
   "source": [
    "'''\n",
    "pass does nothing just a code line\n",
    "'''\n",
    "i=1\n",
    "while(i<10):\n",
    "  i=i+1\n",
    "  if i%2==0:\n",
    "    print(\"skip this iteration\",i)\n",
    "    continue\n",
    "  else:\n",
    "    pass\n",
    "  print(i)"
   ],
   "metadata": {
    "colab": {
     "base_uri": "https://localhost:8080/"
    },
    "id": "BlTavGY4Q63w",
    "outputId": "215e3bd3-1791-4c51-d2d5-8039cbfa7028"
   },
   "outputs": [],
   "execution_count": null
  },
  {
   "cell_type": "code",
   "source": [
    "i=0\n",
    "for i in range(4):\n",
    "  for j in range (i+1):\n",
    "    print(\"i\",i,\"j\",j)"
   ],
   "metadata": {
    "colab": {
     "base_uri": "https://localhost:8080/"
    },
    "id": "k67PnSUGR7kc",
    "outputId": "6b3d2501-f751-4d84-bd1d-238a51412d2c"
   },
   "outputs": [],
   "execution_count": null
  },
  {
   "cell_type": "code",
   "source": [
    "ans=\"Naman\"\n",
    "for i in range(len(ans)):\n",
    "  if i==len(ans)-i-1:\n",
    "    print(\"palindrome\")\n",
    "    break\n",
    "  if ans[i]!=ans[len(ans)-i-1]:\n",
    "    print(\"Not a palindrome\")\n",
    "    break"
   ],
   "metadata": {
    "id": "wi3f-gLsaj_e",
    "outputId": "0d1038f1-d7c5-414e-c9ec-699819531b1e",
    "colab": {
     "base_uri": "https://localhost:8080/"
    }
   },
   "outputs": [],
   "execution_count": null
  }
 ]
}
