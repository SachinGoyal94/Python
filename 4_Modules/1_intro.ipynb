{
 "cells": [
  {
   "cell_type": "code",
   "id": "initial_id",
   "metadata": {
    "collapsed": true
   },
   "source": [
    "import math\n",
    "print(math.sqrt(16))\n"
   ],
   "outputs": [],
   "execution_count": null
  },
  {
   "metadata": {},
   "cell_type": "code",
   "source": [
    "from math import *\n",
    "print(sqrt(16))\n"
   ],
   "id": "999030bafeb61930",
   "outputs": [],
   "execution_count": null
  },
  {
   "metadata": {},
   "cell_type": "code",
   "source": [
    "from package.maths import *\n",
    "print(addition(1,6))"
   ],
   "id": "7618b3201a61d68f",
   "outputs": [],
   "execution_count": null
  },
  {
   "metadata": {},
   "cell_type": "code",
   "source": [
    "from package import maths\n",
    "print(maths.addition(1,6))\n",
    "from package import printerrs\n",
    "printerrs.printt(5)"
   ],
   "id": "198fbcac6342d45b",
   "outputs": [],
   "execution_count": null
  },
  {
   "metadata": {},
   "cell_type": "code",
   "source": [
    "from package.subpackage import new_multi\n",
    "print(new_multi.new_multiply(2,3))"
   ],
   "id": "9b21d370d053fd86",
   "outputs": [],
   "execution_count": null
  },
  {
   "metadata": {},
   "cell_type": "code",
   "source": [
    "import random\n",
    "print(random.randint(1,10))\n",
    "print(random.choice([\"apple\",\"banana\",\"orange\"]))"
   ],
   "id": "76bdaff6d284e0af",
   "outputs": [],
   "execution_count": null
  },
  {
   "metadata": {},
   "cell_type": "code",
   "source": [
    "import array\n",
    "print(array.array('i',[1,2,3,4,5]))"
   ],
   "id": "7b7c0407f0eb0f",
   "outputs": [],
   "execution_count": null
  },
  {
   "metadata": {},
   "cell_type": "markdown",
   "source": "File and Directory Access",
   "id": "3bb2e86f0eb72e67"
  },
  {
   "metadata": {},
   "cell_type": "code",
   "source": [
    "import os\n",
    "print(os.getcwd())  #current working directory\n",
    "os.mkdir('sample_empty') #to create a directory"
   ],
   "id": "600ce62c6728dc01",
   "outputs": [],
   "execution_count": null
  },
  {
   "metadata": {
    "ExecuteTime": {
     "end_time": "2025-06-19T18:46:20.949489Z",
     "start_time": "2025-06-19T18:46:20.939153Z"
    }
   },
   "cell_type": "code",
   "source": [
    "#high level operation on files and collection of files\n",
    "import shutil\n",
    "shutil.copyfile('source', 'destination')"
   ],
   "id": "19cc6c0b45f763d",
   "outputs": [
    {
     "data": {
      "text/plain": [
       "'destination'"
      ]
     },
     "execution_count": 101,
     "metadata": {},
     "output_type": "execute_result"
    }
   ],
   "execution_count": 101
  },
  {
   "metadata": {
    "ExecuteTime": {
     "end_time": "2025-06-19T19:16:56.280143Z",
     "start_time": "2025-06-19T19:16:56.266957Z"
    }
   },
   "cell_type": "code",
   "source": [
    "## Data Serialization\n",
    "import json\n",
    "data={'name':'Krish','age':25}\n",
    "\n",
    "json_str=json.dumps(data)\n",
    "print(json_str)\n",
    "print(type(json_str))\n",
    "\n",
    "parsed_data=json.loads(json_str)\n",
    "print(parsed_data)\n",
    "print(type(parsed_data))"
   ],
   "id": "f12753714de70845",
   "outputs": [
    {
     "name": "stdout",
     "output_type": "stream",
     "text": [
      "{\"name\": \"Krish\", \"age\": 25}\n",
      "<class 'str'>\n",
      "{'name': 'Krish', 'age': 25}\n",
      "<class 'dict'>\n"
     ]
    }
   ],
   "execution_count": 103
  },
  {
   "metadata": {
    "ExecuteTime": {
     "end_time": "2025-06-19T19:36:25.049059Z",
     "start_time": "2025-06-19T19:36:25.039516Z"
    }
   },
   "cell_type": "code",
   "source": [
    "import csv\n",
    "with open(\"example.csv\",mode='w',newline='')as file:\n",
    "    writer=csv.writer(file)\n",
    "    writer.writerow(['name','age'])\n",
    "    writer.writerow(['Krish','25'])\n",
    "    writer.writerow(['Sachin','31'])\n",
    "with open(\"example.csv\",mode='r',newline='')as file:\n",
    "    reader=csv.reader(file)\n",
    "    for row in reader:\n",
    "        print(row)"
   ],
   "id": "1744b041557036d6",
   "outputs": [
    {
     "name": "stdout",
     "output_type": "stream",
     "text": [
      "['name', 'age']\n",
      "['Krish', '25']\n",
      "['Sachin', '31']\n"
     ]
    }
   ],
   "execution_count": 108
  },
  {
   "metadata": {
    "ExecuteTime": {
     "end_time": "2025-06-19T19:38:33.981510Z",
     "start_time": "2025-06-19T19:38:33.966956Z"
    }
   },
   "cell_type": "code",
   "source": [
    "from datetime import datetime,timedelta\n",
    "now=datetime.now()\n",
    "print(now)\n",
    "yesterday=now-timedelta(days=1)"
   ],
   "id": "83d426df81c262ad",
   "outputs": [
    {
     "name": "stdout",
     "output_type": "stream",
     "text": [
      "2025-06-20 01:08:33.976900\n"
     ]
    }
   ],
   "execution_count": 110
  },
  {
   "metadata": {
    "ExecuteTime": {
     "end_time": "2025-06-19T19:47:56.144478Z",
     "start_time": "2025-06-19T19:47:54.117864Z"
    }
   },
   "cell_type": "code",
   "source": [
    "import time\n",
    "print(time.time())\n",
    "time.sleep(2)\n",
    "print(time.time())"
   ],
   "id": "fc438127659083d6",
   "outputs": [
    {
     "name": "stdout",
     "output_type": "stream",
     "text": [
      "1750362474.139238\n",
      "1750362476.1423962\n"
     ]
    }
   ],
   "execution_count": 111
  },
  {
   "metadata": {
    "ExecuteTime": {
     "end_time": "2025-06-19T19:48:13.100285Z",
     "start_time": "2025-06-19T19:48:13.071462Z"
    }
   },
   "cell_type": "code",
   "source": [
    "## Regular expresiion\n",
    "import re\n",
    "\n",
    "pattern=r'\\d+'\n",
    "text='There are 123 apples 456'\n",
    "match=re.search(pattern,text)\n",
    "print(match.group())"
   ],
   "id": "e6d0d7fe9c8c6e60",
   "outputs": [
    {
     "name": "stdout",
     "output_type": "stream",
     "text": [
      "123\n"
     ]
    }
   ],
   "execution_count": 112
  }
 ],
 "metadata": {
  "kernelspec": {
   "display_name": "Python 3",
   "language": "python",
   "name": "python3"
  },
  "language_info": {
   "codemirror_mode": {
    "name": "ipython",
    "version": 2
   },
   "file_extension": ".py",
   "mimetype": "text/x-python",
   "name": "python",
   "nbconvert_exporter": "python",
   "pygments_lexer": "ipython2",
   "version": "2.7.6"
  }
 },
 "nbformat": 4,
 "nbformat_minor": 5
}
