{
  "nbformat": 4,
  "nbformat_minor": 0,
  "metadata": {
    "colab": {
      "provenance": [],
      "authorship_tag": "ABX9TyMf0SgfFW+rmS//XElDSfpB",
      "include_colab_link": true
    },
    "kernelspec": {
      "name": "python3",
      "display_name": "Python 3"
    },
    "language_info": {
      "name": "python"
    }
  },
  "cells": [
    {
      "cell_type": "markdown",
      "metadata": {
        "id": "view-in-github",
        "colab_type": "text"
      },
      "source": [
        "<a href=\"https://colab.research.google.com/github/SachinGoyal94/Python/blob/main/1_python.ipynb\" target=\"_parent\"><img src=\"https://colab.research.google.com/assets/colab-badge.svg\" alt=\"Open In Colab\"/></a>"
      ]
    },
    {
      "cell_type": "code",
      "source": [
        "'''\n",
        "Welcome to a fantastic journey of learning Python\n",
        "'''"
      ],
      "metadata": {
        "id": "OnJnAPhN-scp"
      },
      "execution_count": null,
      "outputs": []
    },
    {
      "cell_type": "code",
      "execution_count": 20,
      "metadata": {
        "colab": {
          "base_uri": "https://localhost:8080/"
        },
        "id": "AUJNmVKj7-id",
        "outputId": "b40c0a6f-0c95-4696-9013-461a3344850d"
      },
      "outputs": [
        {
          "output_type": "stream",
          "name": "stdout",
          "text": [
            "10\n",
            "20\n",
            "False <class 'bool'>\n"
          ]
        }
      ],
      "source": [
        "a=10;b=20\n",
        "print(a)\n",
        "print(b)\n",
        "print(a==b,type(a==b))"
      ]
    },
    {
      "cell_type": "code",
      "source": [
        "a=1+2+3+\\\n",
        "4+5\n",
        "print(a)"
      ],
      "metadata": {
        "colab": {
          "base_uri": "https://localhost:8080/"
        },
        "id": "FmaQIKY39wK-",
        "outputId": "7651911b-26d9-47f4-ba7e-865e77560cf1"
      },
      "execution_count": 4,
      "outputs": [
        {
          "output_type": "stream",
          "name": "stdout",
          "text": [
            "15\n"
          ]
        }
      ]
    },
    {
      "cell_type": "code",
      "source": [
        "age=int(input(\"Enter your age\"))\n",
        "if(age>18):\n",
        "  print(\"major\",age)\n",
        "else:\n",
        "  print(\"minor\",age)\n",
        "print(type(age))"
      ],
      "metadata": {
        "colab": {
          "base_uri": "https://localhost:8080/"
        },
        "id": "EiWS00C892UM",
        "outputId": "39a9617b-f107-40d9-c8f1-0bb4d8c6bfbe"
      },
      "execution_count": 17,
      "outputs": [
        {
          "output_type": "stream",
          "name": "stdout",
          "text": [
            "Enter your age25\n",
            "major 25\n",
            "<class 'int'>\n"
          ]
        }
      ]
    },
    {
      "cell_type": "code",
      "source": [
        "type(age)"
      ],
      "metadata": {
        "colab": {
          "base_uri": "https://localhost:8080/"
        },
        "id": "ZZaApjrd-Obh",
        "outputId": "7d104153-559e-45c5-d893-d0e3792366ef"
      },
      "execution_count": 7,
      "outputs": [
        {
          "output_type": "execute_result",
          "data": {
            "text/plain": [
              "int"
            ]
          },
          "metadata": {},
          "execution_count": 7
        }
      ]
    },
    {
      "cell_type": "code",
      "source": [
        "###   TypeConversions  age=datatype(value)\n",
        "age =25\n",
        "strings=str(age)\n",
        "print(strings)\n",
        "value=\"Sachin\"\n",
        "name=str(value)\n",
        "print(name)\n",
        "print(\"concatenating string\",value+str(age))"
      ],
      "metadata": {
        "colab": {
          "base_uri": "https://localhost:8080/"
        },
        "id": "mvRjW_uSCY0-",
        "outputId": "a55bb298-32dc-42af-e373-74244b489729"
      },
      "execution_count": 21,
      "outputs": [
        {
          "output_type": "stream",
          "name": "stdout",
          "text": [
            "25\n",
            "Sachin\n",
            "Sachin25\n"
          ]
        }
      ]
    }
  ]
}