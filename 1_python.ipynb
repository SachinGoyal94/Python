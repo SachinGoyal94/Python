{
  "nbformat": 4,
  "nbformat_minor": 0,
  "metadata": {
    "colab": {
      "provenance": [],
      "authorship_tag": "ABX9TyMnyfHEWz8qbRrt5iiIqqVQ",
      "include_colab_link": true
    },
    "kernelspec": {
      "name": "python3",
      "display_name": "Python 3"
    },
    "language_info": {
      "name": "python"
    }
  },
  "cells": [
    {
      "cell_type": "markdown",
      "metadata": {
        "id": "view-in-github",
        "colab_type": "text"
      },
      "source": [
        "<a href=\"https://colab.research.google.com/github/SachinGoyal94/Python/blob/main/1_python.ipynb\" target=\"_parent\"><img src=\"https://colab.research.google.com/assets/colab-badge.svg\" alt=\"Open In Colab\"/></a>"
      ]
    },
    {
      "cell_type": "code",
      "source": [
        "'''\n",
        "Welcome to a fantastic journey of learning Python\n",
        "'''"
      ],
      "metadata": {
        "id": "OnJnAPhN-scp"
      },
      "execution_count": null,
      "outputs": []
    },
    {
      "cell_type": "code",
      "execution_count": 20,
      "metadata": {
        "colab": {
          "base_uri": "https://localhost:8080/"
        },
        "id": "AUJNmVKj7-id",
        "outputId": "b40c0a6f-0c95-4696-9013-461a3344850d"
      },
      "outputs": [
        {
          "output_type": "stream",
          "name": "stdout",
          "text": [
            "10\n",
            "20\n",
            "False <class 'bool'>\n"
          ]
        }
      ],
      "source": [
        "a=10;b=20\n",
        "print(a)\n",
        "print(b)\n",
        "print(a==b,type(a==b))"
      ]
    },
    {
      "cell_type": "code",
      "source": [
        "a=1+2+3+\\\n",
        "4+5\n",
        "print(a)"
      ],
      "metadata": {
        "colab": {
          "base_uri": "https://localhost:8080/"
        },
        "id": "FmaQIKY39wK-",
        "outputId": "7651911b-26d9-47f4-ba7e-865e77560cf1"
      },
      "execution_count": 4,
      "outputs": [
        {
          "output_type": "stream",
          "name": "stdout",
          "text": [
            "15\n"
          ]
        }
      ]
    },
    {
      "cell_type": "code",
      "source": [
        "age=int(input(\"Enter your age\"))\n",
        "if(age>18):\n",
        "  print(\"major\",age)\n",
        "else:\n",
        "  print(\"minor\",age)\n",
        "print(type(age))"
      ],
      "metadata": {
        "colab": {
          "base_uri": "https://localhost:8080/"
        },
        "id": "EiWS00C892UM",
        "outputId": "39a9617b-f107-40d9-c8f1-0bb4d8c6bfbe"
      },
      "execution_count": 17,
      "outputs": [
        {
          "output_type": "stream",
          "name": "stdout",
          "text": [
            "Enter your age25\n",
            "major 25\n",
            "<class 'int'>\n"
          ]
        }
      ]
    },
    {
      "cell_type": "code",
      "source": [
        "type(age)"
      ],
      "metadata": {
        "colab": {
          "base_uri": "https://localhost:8080/"
        },
        "id": "ZZaApjrd-Obh",
        "outputId": "7d104153-559e-45c5-d893-d0e3792366ef"
      },
      "execution_count": 7,
      "outputs": [
        {
          "output_type": "execute_result",
          "data": {
            "text/plain": [
              "int"
            ]
          },
          "metadata": {},
          "execution_count": 7
        }
      ]
    },
    {
      "cell_type": "code",
      "source": [
        "###   TypeConversions  age=datatype(value)\n",
        "age =25\n",
        "strings=str(age)\n",
        "print(strings)\n",
        "value=\"Sachin\"\n",
        "name=str(value)\n",
        "print(name)\n",
        "print(\"concatenating string\",value+str(age))"
      ],
      "metadata": {
        "colab": {
          "base_uri": "https://localhost:8080/"
        },
        "id": "mvRjW_uSCY0-",
        "outputId": "a55bb298-32dc-42af-e373-74244b489729"
      },
      "execution_count": 21,
      "outputs": [
        {
          "output_type": "stream",
          "name": "stdout",
          "text": [
            "25\n",
            "Sachin\n",
            "Sachin25\n"
          ]
        }
      ]
    },
    {
      "cell_type": "code",
      "source": [
        "num1 = float(input(\"Enter first number: \"))\n",
        "num2 = float(input(\"Enter second number: \"))\n",
        "\n",
        "# Performing arithmetic operations\n",
        "addition = num1 + num2\n",
        "subtraction = num1 - num2\n",
        "multiplication = num1 * num2\n",
        "division = num1 / num2\n",
        "floor_division = num1 // num2\n",
        "modulus = num1 % num2\n",
        "exponentiation = num1 ** num2\n",
        "\n",
        "# Displaying results\n",
        "print(\"Addition:\", addition)\n",
        "print(\"Subtraction:\", subtraction)\n",
        "print(\"Multiplication:\", multiplication)\n",
        "print(\"Division:\", division)\n",
        "print(\"Floor Division:\", floor_division)\n",
        "print(\"Modulus:\", modulus)\n",
        "print(\"Exponentiation:\", exponentiation)"
      ],
      "metadata": {
        "colab": {
          "base_uri": "https://localhost:8080/"
        },
        "id": "qFpEjTVzGnwO",
        "outputId": "07dcb892-97c6-41be-e766-b5c0677a272f"
      },
      "execution_count": 22,
      "outputs": [
        {
          "output_type": "stream",
          "name": "stdout",
          "text": [
            "Enter first number: 10\n",
            "Enter second number: 20\n",
            "Addition: 30.0\n",
            "Subtraction: -10.0\n",
            "Multiplication: 200.0\n",
            "Division: 0.5\n",
            "Floor Division: 0.0\n",
            "Modulus: 10.0\n",
            "Exponentiation: 1e+20\n"
          ]
        }
      ]
    },
    {
      "cell_type": "code",
      "source": [
        "X=1\n",
        "Y=0\n",
        "print( X or Y )\n",
        "print( X and Y)\n",
        "print( not X)\n",
        "print( X!=Y,X>Y,X<Y,X>=Y,X<=Y)"
      ],
      "metadata": {
        "colab": {
          "base_uri": "https://localhost:8080/"
        },
        "id": "xH-O_FpqGry1",
        "outputId": "dfd68d95-7951-420e-e9c5-a9e59465117d"
      },
      "execution_count": 25,
      "outputs": [
        {
          "output_type": "stream",
          "name": "stdout",
          "text": [
            "1\n",
            "0\n",
            "False\n",
            "True True False True False\n"
          ]
        }
      ]
    }
  ]
}