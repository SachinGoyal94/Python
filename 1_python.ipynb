{
  "nbformat": 4,
  "nbformat_minor": 0,
  "metadata": {
    "colab": {
      "provenance": [],
      "authorship_tag": "ABX9TyP52QfoiPOnJCRGzY1JiH0S",
      "include_colab_link": true
    },
    "kernelspec": {
      "name": "python3",
      "display_name": "Python 3"
    },
    "language_info": {
      "name": "python"
    }
  },
  "cells": [
    {
      "cell_type": "markdown",
      "metadata": {
        "id": "view-in-github",
        "colab_type": "text"
      },
      "source": [
        "<a href=\"https://colab.research.google.com/github/SachinGoyal94/Python/blob/main/1_python.ipynb\" target=\"_parent\"><img src=\"https://colab.research.google.com/assets/colab-badge.svg\" alt=\"Open In Colab\"/></a>"
      ]
    },
    {
      "cell_type": "code",
      "source": [
        "'''\n",
        "Welcome to a fantastic journey of learning Python\n",
        "'''"
      ],
      "metadata": {
        "id": "OnJnAPhN-scp"
      },
      "execution_count": null,
      "outputs": []
    },
    {
      "cell_type": "code",
      "execution_count": 20,
      "metadata": {
        "colab": {
          "base_uri": "https://localhost:8080/"
        },
        "id": "AUJNmVKj7-id",
        "outputId": "b40c0a6f-0c95-4696-9013-461a3344850d"
      },
      "outputs": [
        {
          "output_type": "stream",
          "name": "stdout",
          "text": [
            "10\n",
            "20\n",
            "False <class 'bool'>\n"
          ]
        }
      ],
      "source": [
        "a=10;b=20\n",
        "print(a)\n",
        "print(b)\n",
        "print(a==b,type(a==b))"
      ]
    },
    {
      "cell_type": "code",
      "source": [
        "a=1+2+3+\\\n",
        "4+5\n",
        "print(a)"
      ],
      "metadata": {
        "colab": {
          "base_uri": "https://localhost:8080/"
        },
        "id": "FmaQIKY39wK-",
        "outputId": "7651911b-26d9-47f4-ba7e-865e77560cf1"
      },
      "execution_count": 4,
      "outputs": [
        {
          "output_type": "stream",
          "name": "stdout",
          "text": [
            "15\n"
          ]
        }
      ]
    },
    {
      "cell_type": "code",
      "source": [
        "age=int(input(\"Enter your age\"))\n",
        "if(age>18):\n",
        "  print(\"major\",age)\n",
        "elif age<18 and age>13:\n",
        "  print(\"teenager\",age)\n",
        "else:\n",
        "  print(\"minor\",age)\n",
        "print(type(age))"
      ],
      "metadata": {
        "colab": {
          "base_uri": "https://localhost:8080/"
        },
        "id": "EiWS00C892UM",
        "outputId": "e8baca3e-21e1-42c6-ce33-032d17553141"
      },
      "execution_count": 26,
      "outputs": [
        {
          "output_type": "stream",
          "name": "stdout",
          "text": [
            "Enter your age15\n",
            "teenager 15\n",
            "<class 'int'>\n"
          ]
        }
      ]
    },
    {
      "cell_type": "code",
      "source": [
        "type(age)"
      ],
      "metadata": {
        "colab": {
          "base_uri": "https://localhost:8080/"
        },
        "id": "ZZaApjrd-Obh",
        "outputId": "7d104153-559e-45c5-d893-d0e3792366ef"
      },
      "execution_count": 7,
      "outputs": [
        {
          "output_type": "execute_result",
          "data": {
            "text/plain": [
              "int"
            ]
          },
          "metadata": {},
          "execution_count": 7
        }
      ]
    },
    {
      "cell_type": "code",
      "source": [
        "###   TypeConversions  age=datatype(value)\n",
        "age =25\n",
        "strings=str(age)\n",
        "print(strings)\n",
        "value=\"Sachin\"\n",
        "name=str(value)\n",
        "print(name)\n",
        "print(\"concatenating string\",value+str(age))"
      ],
      "metadata": {
        "colab": {
          "base_uri": "https://localhost:8080/"
        },
        "id": "mvRjW_uSCY0-",
        "outputId": "a55bb298-32dc-42af-e373-74244b489729"
      },
      "execution_count": 21,
      "outputs": [
        {
          "output_type": "stream",
          "name": "stdout",
          "text": [
            "25\n",
            "Sachin\n",
            "Sachin25\n"
          ]
        }
      ]
    },
    {
      "cell_type": "code",
      "source": [
        "num1 = float(input(\"Enter first number: \"))\n",
        "num2 = float(input(\"Enter second number: \"))\n",
        "\n",
        "# Performing arithmetic operations\n",
        "addition = num1 + num2\n",
        "subtraction = num1 - num2\n",
        "multiplication = num1 * num2\n",
        "division = num1 / num2\n",
        "floor_division = num1 // num2\n",
        "modulus = num1 % num2\n",
        "exponentiation = num1 ** num2\n",
        "\n",
        "# Displaying results\n",
        "print(\"Addition:\", addition)\n",
        "print(\"Subtraction:\", subtraction)\n",
        "print(\"Multiplication:\", multiplication)\n",
        "print(\"Division:\", division)\n",
        "print(\"Floor Division:\", floor_division)\n",
        "print(\"Modulus:\", modulus)\n",
        "print(\"Exponentiation:\", exponentiation)"
      ],
      "metadata": {
        "colab": {
          "base_uri": "https://localhost:8080/"
        },
        "id": "qFpEjTVzGnwO",
        "outputId": "07dcb892-97c6-41be-e766-b5c0677a272f"
      },
      "execution_count": 22,
      "outputs": [
        {
          "output_type": "stream",
          "name": "stdout",
          "text": [
            "Enter first number: 10\n",
            "Enter second number: 20\n",
            "Addition: 30.0\n",
            "Subtraction: -10.0\n",
            "Multiplication: 200.0\n",
            "Division: 0.5\n",
            "Floor Division: 0.0\n",
            "Modulus: 10.0\n",
            "Exponentiation: 1e+20\n"
          ]
        }
      ]
    },
    {
      "cell_type": "code",
      "source": [
        "X=1\n",
        "Y=0\n",
        "print( X or Y )\n",
        "print( X and Y)\n",
        "print( not X)\n",
        "print( X!=Y,X>Y,X<Y,X>=Y,X<=Y)"
      ],
      "metadata": {
        "colab": {
          "base_uri": "https://localhost:8080/"
        },
        "id": "xH-O_FpqGry1",
        "outputId": "dfd68d95-7951-420e-e9c5-a9e59465117d"
      },
      "execution_count": 25,
      "outputs": [
        {
          "output_type": "stream",
          "name": "stdout",
          "text": [
            "1\n",
            "0\n",
            "False\n",
            "True True False True False\n"
          ]
        }
      ]
    },
    {
      "cell_type": "code",
      "source": [
        "for i in range(5):\n",
        "  print(i)"
      ],
      "metadata": {
        "colab": {
          "base_uri": "https://localhost:8080/"
        },
        "id": "uGd70_wDQW6_",
        "outputId": "306df4e7-ec06-43ab-9f5b-692d4532676f"
      },
      "execution_count": 27,
      "outputs": [
        {
          "output_type": "stream",
          "name": "stdout",
          "text": [
            "0\n",
            "1\n",
            "2\n",
            "3\n",
            "4\n"
          ]
        }
      ]
    },
    {
      "cell_type": "code",
      "source": [
        "for i in range(1,10,2):\n",
        "  if i==5:\n",
        "    break\n",
        "  print(i)"
      ],
      "metadata": {
        "colab": {
          "base_uri": "https://localhost:8080/"
        },
        "id": "EKIM8xmgQg0E",
        "outputId": "05d47679-a336-418b-9699-f695fd8bba53"
      },
      "execution_count": 30,
      "outputs": [
        {
          "output_type": "stream",
          "name": "stdout",
          "text": [
            "1\n",
            "3\n"
          ]
        }
      ]
    },
    {
      "cell_type": "code",
      "source": [
        "for i in \"Sachin Goyal\":\n",
        "  print(i)"
      ],
      "metadata": {
        "colab": {
          "base_uri": "https://localhost:8080/"
        },
        "id": "nPG8w8TOQjEr",
        "outputId": "48d9b119-b6a8-4251-db94-e2d8fae1eda5"
      },
      "execution_count": 29,
      "outputs": [
        {
          "output_type": "stream",
          "name": "stdout",
          "text": [
            "S\n",
            "a\n",
            "c\n",
            "h\n",
            "i\n",
            "n\n",
            " \n",
            "G\n",
            "o\n",
            "y\n",
            "a\n",
            "l\n"
          ]
        }
      ]
    },
    {
      "cell_type": "code",
      "source": [
        "'''\n",
        "pass does nothing just a code line\n",
        "'''\n",
        "i=1\n",
        "while(i<10):\n",
        "  i=i+1\n",
        "  if i%2==0:\n",
        "    print(\"skip this iteration\",i)\n",
        "    continue\n",
        "  else:\n",
        "    pass\n",
        "  print(i)"
      ],
      "metadata": {
        "colab": {
          "base_uri": "https://localhost:8080/"
        },
        "id": "BlTavGY4Q63w",
        "outputId": "215e3bd3-1791-4c51-d2d5-8039cbfa7028"
      },
      "execution_count": 35,
      "outputs": [
        {
          "output_type": "stream",
          "name": "stdout",
          "text": [
            "skip this iteration 2\n",
            "3\n",
            "skip this iteration 4\n",
            "5\n",
            "skip this iteration 6\n",
            "7\n",
            "skip this iteration 8\n",
            "9\n",
            "skip this iteration 10\n"
          ]
        }
      ]
    },
    {
      "cell_type": "code",
      "source": [
        "i=0\n",
        "for i in range(4):\n",
        "  for j in range (i+1):\n",
        "    print(\"i\",i,\"j\",j)"
      ],
      "metadata": {
        "colab": {
          "base_uri": "https://localhost:8080/"
        },
        "id": "k67PnSUGR7kc",
        "outputId": "6b3d2501-f751-4d84-bd1d-238a51412d2c"
      },
      "execution_count": 39,
      "outputs": [
        {
          "output_type": "stream",
          "name": "stdout",
          "text": [
            "i 0 j 0\n",
            "i 1 j 0\n",
            "i 1 j 1\n",
            "i 2 j 0\n",
            "i 2 j 1\n",
            "i 2 j 2\n",
            "i 3 j 0\n",
            "i 3 j 1\n",
            "i 3 j 2\n",
            "i 3 j 3\n"
          ]
        }
      ]
    }
  ]
}