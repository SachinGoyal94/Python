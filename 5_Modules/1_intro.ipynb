{
 "cells": [
  {
   "cell_type": "code",
   "id": "initial_id",
   "metadata": {
    "collapsed": true,
    "ExecuteTime": {
     "end_time": "2025-06-19T15:06:56.594122Z",
     "start_time": "2025-06-19T15:06:56.480935Z"
    }
   },
   "source": [
    "import math\n",
    "print(math.sqrt(16))\n"
   ],
   "outputs": [
    {
     "name": "stdout",
     "output_type": "stream",
     "text": [
      "4.0\n"
     ]
    }
   ],
   "execution_count": 2
  },
  {
   "metadata": {
    "ExecuteTime": {
     "end_time": "2025-06-19T15:07:34.571934Z",
     "start_time": "2025-06-19T15:07:34.542534Z"
    }
   },
   "cell_type": "code",
   "source": [
    "from math import *\n",
    "print(sqrt(16))\n"
   ],
   "id": "999030bafeb61930",
   "outputs": [
    {
     "name": "stdout",
     "output_type": "stream",
     "text": [
      "4.0\n"
     ]
    }
   ],
   "execution_count": 3
  },
  {
   "metadata": {
    "ExecuteTime": {
     "end_time": "2025-06-19T15:11:46.465811Z",
     "start_time": "2025-06-19T15:11:46.388504Z"
    }
   },
   "cell_type": "code",
   "source": [
    "from package.maths import *\n",
    "print(addition(1,6))"
   ],
   "id": "7618b3201a61d68f",
   "outputs": [
    {
     "name": "stdout",
     "output_type": "stream",
     "text": [
      "7\n"
     ]
    }
   ],
   "execution_count": 4
  },
  {
   "metadata": {
    "ExecuteTime": {
     "end_time": "2025-06-19T15:12:06.643847Z",
     "start_time": "2025-06-19T15:12:06.637524Z"
    }
   },
   "cell_type": "code",
   "source": [
    "from package import maths\n",
    "print(maths.addition(1,6))"
   ],
   "id": "198fbcac6342d45b",
   "outputs": [
    {
     "name": "stdout",
     "output_type": "stream",
     "text": [
      "7\n"
     ]
    }
   ],
   "execution_count": 6
  },
  {
   "metadata": {
    "ExecuteTime": {
     "end_time": "2025-06-19T15:24:50.219007Z",
     "start_time": "2025-06-19T15:24:50.187232Z"
    }
   },
   "cell_type": "code",
   "source": [
    "from package import *\n",
    "print(maths.addition(1,6))\n",
    "print(printerrs.printt(5))"
   ],
   "id": "5f50cc5a286eafd6",
   "outputs": [
    {
     "name": "stdout",
     "output_type": "stream",
     "text": [
      "7\n"
     ]
    },
    {
     "ename": "NameError",
     "evalue": "name 'printerrs' is not defined",
     "output_type": "error",
     "traceback": [
      "\u001B[31m---------------------------------------------------------------------------\u001B[39m",
      "\u001B[31mNameError\u001B[39m                                 Traceback (most recent call last)",
      "\u001B[36mCell\u001B[39m\u001B[36m \u001B[39m\u001B[32mIn[43]\u001B[39m\u001B[32m, line 3\u001B[39m\n\u001B[32m      1\u001B[39m \u001B[38;5;28;01mfrom\u001B[39;00m\u001B[38;5;250m \u001B[39m\u001B[34;01mpackage\u001B[39;00m\u001B[38;5;250m \u001B[39m\u001B[38;5;28;01mimport\u001B[39;00m *\n\u001B[32m      2\u001B[39m \u001B[38;5;28mprint\u001B[39m(maths.addition(\u001B[32m1\u001B[39m,\u001B[32m6\u001B[39m))\n\u001B[32m----> \u001B[39m\u001B[32m3\u001B[39m \u001B[38;5;28mprint\u001B[39m(\u001B[43mprinterrs\u001B[49m.printt(\u001B[32m5\u001B[39m))\n",
      "\u001B[31mNameError\u001B[39m: name 'printerrs' is not defined"
     ]
    }
   ],
   "execution_count": 43
  }
 ],
 "metadata": {
  "kernelspec": {
   "display_name": "Python 3",
   "language": "python",
   "name": "python3"
  },
  "language_info": {
   "codemirror_mode": {
    "name": "ipython",
    "version": 2
   },
   "file_extension": ".py",
   "mimetype": "text/x-python",
   "name": "python",
   "nbconvert_exporter": "python",
   "pygments_lexer": "ipython2",
   "version": "2.7.6"
  }
 },
 "nbformat": 4,
 "nbformat_minor": 5
}
