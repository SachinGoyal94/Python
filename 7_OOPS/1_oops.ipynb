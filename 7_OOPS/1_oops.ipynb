{
 "cells": [
  {
   "metadata": {},
   "cell_type": "code",
   "source": [
    "class Car:\n",
    "    pass\n",
    "audi=Car()\n",
    "bmw=Car()\n",
    "print(audi)\n",
    "print(bmw)\n",
    "print(type(audi))"
   ],
   "id": "17a89831c3df0bba",
   "outputs": [],
   "execution_count": null
  },
  {
   "cell_type": "code",
   "id": "initial_id",
   "metadata": {
    "collapsed": true
   },
   "source": [
    "audi.engine=2 #creating attribute of class in this way is not a proper method\n",
    "print(audi.engine)\n",
    "bmw.engine=2\n",
    "print(bmw.engine)\n",
    "\n",
    "audi.windows=4\n",
    "print(audi.windows)\n",
    "print(type(audi.windows))"
   ],
   "outputs": [],
   "execution_count": null
  },
  {
   "metadata": {},
   "cell_type": "code",
   "source": "dir(audi)",
   "id": "400e72a605ca72cb",
   "outputs": [],
   "execution_count": null
  },
  {
   "metadata": {},
   "cell_type": "code",
   "source": [
    "class Bank:\n",
    "    def __init__(self,name,balance):\n",
    "        self.name=name\n",
    "        self.balance=balance\n",
    "    def getbalance(self):\n",
    "        return self.balance\n",
    "    def deposit(self,amount):\n",
    "        self.balance+=amount\n",
    "        print(f\"amount {amount} deposited to {self.name}\")\n",
    "    def withdraw(self,amount):\n",
    "        if self.balance-amount>=2000:\n",
    "            self.balance-=amount\n",
    "            print(f\"Owner {self.name} \\nbalance {self.balance}\")\n",
    "        elif self.balance-amount>=0 and self.balance-amount<2000:\n",
    "            print(\"low balance cannot be withdrawn\")\n",
    "            print(f\"Owner  {self.name} \\n balance {self.balance}\")\n",
    "        else:\n",
    "            print(\"No such balance\")\n",
    "owner1=Bank(\"Sachin\",10000)\n",
    "owner1.deposit(1000)\n",
    "print(f\"amount in the account :{owner1.getbalance()}\")\n",
    "owner1.withdraw(1000)\n",
    "dir(owner1)\n"
   ],
   "id": "4b0ce0c195e34611",
   "outputs": [],
   "execution_count": null
  }
 ],
 "metadata": {
  "kernelspec": {
   "display_name": "Python 3",
   "language": "python",
   "name": "python3"
  },
  "language_info": {
   "codemirror_mode": {
    "name": "ipython",
    "version": 2
   },
   "file_extension": ".py",
   "mimetype": "text/x-python",
   "name": "python",
   "nbconvert_exporter": "python",
   "pygments_lexer": "ipython2",
   "version": "2.7.6"
  }
 },
 "nbformat": 4,
 "nbformat_minor": 5
}
