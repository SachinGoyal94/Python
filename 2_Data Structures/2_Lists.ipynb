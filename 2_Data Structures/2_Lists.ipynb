{
 "nbformat": 4,
 "nbformat_minor": 0,
 "metadata": {
  "colab": {
   "provenance": [],
   "authorship_tag": "ABX9TyOdt0YBi2+QGlxLZ4cTscmi",
   "include_colab_link": true
  },
  "kernelspec": {
   "name": "python3",
   "display_name": "Python 3"
  },
  "language_info": {
   "name": "python"
  }
 },
 "cells": [
  {
   "cell_type": "markdown",
   "metadata": {
    "id": "view-in-github",
    "colab_type": "text"
   },
   "source": [
    "<a href=\"https://colab.research.google.com/github/SachinGoyal94/Python/blob/main/2_DataStructures.ipynb\" target=\"_parent\"><img src=\"https://colab.research.google.com/assets/colab-badge.svg\" alt=\"Open In Colab\"/></a>"
   ]
  },
  {
   "cell_type": "code",
   "source": [
    "'''\n",
    "lists indexed with 0\n",
    "ordered mutable\n",
    "'''"
   ],
   "metadata": {
    "id": "OnJnAPhN-scp"
   },
   "outputs": [],
   "execution_count": null
  },
  {
   "cell_type": "code",
   "source": [
    "lists=[1,2,\"Sachin\",\"Goyal\",3.14]\n",
    "print(lists,type(lists))\n",
    "\n",
    "# *******\n",
    "#it will tell every function related to a data structure of any thing just\n",
    "#put the type of variable in it\n",
    "dir(lists)"
   ],
   "metadata": {
    "colab": {
     "base_uri": "https://localhost:8080/"
    },
    "id": "GiPBno4ZgSKy",
    "outputId": "1329d089-4040-4076-b425-bddde8d1a527",
    "ExecuteTime": {
     "end_time": "2025-06-21T05:37:35.101942Z",
     "start_time": "2025-06-21T05:37:35.093879Z"
    }
   },
   "outputs": [
    {
     "name": "stdout",
     "output_type": "stream",
     "text": [
      "[1, 2, 'Sachin', 'Goyal', 3.14] <class 'list'>\n"
     ]
    },
    {
     "data": {
      "text/plain": [
       "['__add__',\n",
       " '__class__',\n",
       " '__class_getitem__',\n",
       " '__contains__',\n",
       " '__delattr__',\n",
       " '__delitem__',\n",
       " '__dir__',\n",
       " '__doc__',\n",
       " '__eq__',\n",
       " '__format__',\n",
       " '__ge__',\n",
       " '__getattribute__',\n",
       " '__getitem__',\n",
       " '__getstate__',\n",
       " '__gt__',\n",
       " '__hash__',\n",
       " '__iadd__',\n",
       " '__imul__',\n",
       " '__init__',\n",
       " '__init_subclass__',\n",
       " '__iter__',\n",
       " '__le__',\n",
       " '__len__',\n",
       " '__lt__',\n",
       " '__mul__',\n",
       " '__ne__',\n",
       " '__new__',\n",
       " '__reduce__',\n",
       " '__reduce_ex__',\n",
       " '__repr__',\n",
       " '__reversed__',\n",
       " '__rmul__',\n",
       " '__setattr__',\n",
       " '__setitem__',\n",
       " '__sizeof__',\n",
       " '__str__',\n",
       " '__subclasshook__',\n",
       " 'append',\n",
       " 'clear',\n",
       " 'copy',\n",
       " 'count',\n",
       " 'extend',\n",
       " 'index',\n",
       " 'insert',\n",
       " 'pop',\n",
       " 'remove',\n",
       " 'reverse',\n",
       " 'sort']"
      ]
     },
     "execution_count": 5,
     "metadata": {},
     "output_type": "execute_result"
    }
   ],
   "execution_count": 5
  },
  {
   "cell_type": "code",
   "source": [
    "for i in range(len(lists)):\n",
    "  print(lists[i])"
   ],
   "metadata": {
    "colab": {
     "base_uri": "https://localhost:8080/"
    },
    "id": "EiKx9fO2gbl0",
    "outputId": "f0848ff3-60d9-4697-ba34-7c4c6ece2de9"
   },
   "outputs": [],
   "execution_count": null
  },
  {
   "cell_type": "code",
   "source": [
    "print(lists[1:])\n",
    "print(lists[:4:2])"
   ],
   "metadata": {
    "colab": {
     "base_uri": "https://localhost:8080/"
    },
    "id": "A5SCthKVg3gN",
    "outputId": "76fc50a9-2ba9-43cb-b45d-b194bc4bae42"
   },
   "outputs": [],
   "execution_count": null
  },
  {
   "cell_type": "code",
   "source": [
    "print(lists)\n",
    "lists[1]=\"banana\"\n",
    "print(lists)"
   ],
   "metadata": {
    "colab": {
     "base_uri": "https://localhost:8080/"
    },
    "id": "yLtRHxcwhJwa",
    "outputId": "ee9fe221-eaef-46ed-a19c-7f239efe7d8d"
   },
   "outputs": [],
   "execution_count": null
  },
  {
   "cell_type": "code",
   "source": [
    "lists[1:]=\"watermelon\"\n",
    "print(lists)"
   ],
   "metadata": {
    "colab": {
     "base_uri": "https://localhost:8080/"
    },
    "id": "Vick25g8hS1y",
    "outputId": "040cd478-e700-4387-d6ee-8f84fafba72c"
   },
   "outputs": [],
   "execution_count": null
  },
  {
   "cell_type": "code",
   "source": [
    "lists=[1,2,\"Sachin\",\"Goyal\",3.14]\n",
    "\n",
    "lists.append(\"Name\")\n",
    "print(lists)\n",
    "\n",
    "lists.insert(1,3.14)\n",
    "print(lists)\n",
    "\n",
    "print(lists.pop())\n",
    "print(lists)\n",
    "\n",
    "print(lists.count(3.14))\n",
    "\n",
    "lists.remove(3.14)   #removes first occurence of 3.14\n",
    "print(lists)"
   ],
   "metadata": {
    "colab": {
     "base_uri": "https://localhost:8080/"
    },
    "id": "1sd3xJE2hXq0",
    "outputId": "bf339575-d8f0-4972-8b6f-021c5748e6eb"
   },
   "outputs": [],
   "execution_count": null
  },
  {
   "cell_type": "code",
   "source": [
    "print(lists.index(3.14))"
   ],
   "metadata": {
    "colab": {
     "base_uri": "https://localhost:8080/"
    },
    "id": "LFSk5ba3h1ZM",
    "outputId": "594be5c0-dc77-4fe3-bbc8-06befabec5b9"
   },
   "outputs": [],
   "execution_count": null
  },
  {
   "cell_type": "code",
   "source": [
    "lists=[1,1000,23,34,12,123]\n",
    "\n",
    "lists.sort()\n",
    "print(lists)\n",
    "\n",
    "lists.reverse()\n",
    "print(lists)\n",
    "\n",
    "print(lists[::2 ])\n",
    "\n",
    "print(lists[::-2])\n",
    "\n",
    "lists.clear()\n",
    "print(lists)"
   ],
   "metadata": {
    "colab": {
     "base_uri": "https://localhost:8080/"
    },
    "id": "qTGBErAyh5Kv",
    "outputId": "c740b1ac-0593-42d6-89b3-31b9104696c2"
   },
   "outputs": [],
   "execution_count": null
  },
  {
   "cell_type": "markdown",
   "source": [
    "enumerate is used to print index and their values together"
   ],
   "metadata": {
    "id": "xYH1-RJCzrt3"
   }
  },
  {
   "cell_type": "code",
   "source": [
    "lists=[1,1000,23,34,12,123]\n",
    "for index,values in enumerate(lists):\n",
    "  print(index,values)"
   ],
   "metadata": {
    "colab": {
     "base_uri": "https://localhost:8080/"
    },
    "id": "xzD_a3fbzRST",
    "outputId": "1d96904e-9809-4868-b3bb-a06cf56d4b0b"
   },
   "outputs": [],
   "execution_count": null
  },
  {
   "cell_type": "markdown",
   "source": [
    "list comprehension\n",
    "\n",
    "*   Basic  list=[expression for item in variable ]\n",
    "*   Advanced  list=[expression for item in variable if condition ]\n",
    "*   Nested list=[[i,j] for i in list1 for j in list2]"
   ],
   "metadata": {
    "id": "sMUTTpRJ0bfu"
   }
  },
  {
   "cell_type": "code",
   "source": [
    "lists=[i*i for i in range(10)]\n",
    "adv=[i*i for i in range(10) if i%2==0 ]\n",
    "nested=[[i,j] for i in lists for j in adv]\n",
    "print(lists)\n",
    "print(adv)\n",
    "print(nested)"
   ],
   "metadata": {
    "colab": {
     "base_uri": "https://localhost:8080/"
    },
    "id": "pEof6WRo0ZjZ",
    "outputId": "e1f888cf-04c8-4694-f72a-a9419022a42a"
   },
   "outputs": [],
   "execution_count": null
  }
 ]
}
