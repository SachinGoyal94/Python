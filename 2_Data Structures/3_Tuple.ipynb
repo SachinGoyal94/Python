{
 "cells": [
  {
   "metadata": {},
   "cell_type": "markdown",
   "source": [
    "Tuples are immutable\n",
    "they can't be modified later on"
   ],
   "id": "bed277d22b9e2f34"
  },
  {
   "metadata": {},
   "cell_type": "code",
   "source": [
    "#creating tuple\n",
    "tuples=()\n",
    "print(tuples)\n",
    "print(type(tuples))\n",
    "\n",
    "lists=()\n",
    "print(lists)\n",
    "print(type(lists))\n",
    "\n",
    "data=(1,2,\"Hello\",3.14)\n",
    "print(data)\n",
    "\n",
    "datafromlist=tuple([11,12,\"Hello World\",6.28])\n",
    "print(datafromlist)\n",
    "\n",
    "print(data[0],data[1],data[-1],data[-2])\n",
    "print('using slicing ')\n",
    "print(data[:])\n",
    "print(data[:4])\n",
    "print(data[: : -1])\n",
    "\n"
   ],
   "id": "initial_id",
   "outputs": [],
   "execution_count": null
  },
  {
   "metadata": {},
   "cell_type": "markdown",
   "source": "Tuple Operations",
   "id": "639839981dab0614"
  },
  {
   "metadata": {},
   "cell_type": "code",
   "source": [
    "new_data=data+datafromlist\n",
    "print(new_data)\n",
    "print(new_data*3)"
   ],
   "id": "30af1e2681ef48e8",
   "outputs": [],
   "execution_count": null
  },
  {
   "metadata": {},
   "cell_type": "markdown",
   "source": "Immutability: Error if we try to modify tuple",
   "id": "f9f3a331debad6b3"
  },
  {
   "metadata": {},
   "cell_type": "code",
   "source": [
    "new_data[1]=100\n",
    "print(new_data)"
   ],
   "id": "73f94f81f9695b0a",
   "outputs": [],
   "execution_count": null
  },
  {
   "metadata": {},
   "cell_type": "markdown",
   "source": "Tuple Methods",
   "id": "2b98f8258c0e38a3"
  },
  {
   "metadata": {},
   "cell_type": "code",
   "outputs": [
    {
     "name": "stdout",
     "output_type": "stream",
     "text": [
      "1\n",
      "3\n",
      "index of 6.28 is  7\n",
      "7\n"
     ]
    }
   ],
   "execution_count": 16,
   "source": [
    "print(new_data.count(6.28))\n",
    "print((new_data*3).count(6.28))\n",
    "\n",
    "print('index of 6.28 is ',new_data.index(6.28))\n",
    "print('index of first occurrence of 6.28 will be displayed',(new_data*3).index(6.28))"
   ],
   "id": "e1e93cdfc6f376bb"
  },
  {
   "metadata": {},
   "cell_type": "markdown",
   "source": "Packing / Unpacking of Tuples",
   "id": "a47140442aa7a326"
  },
  {
   "metadata": {
    "ExecuteTime": {
     "end_time": "2025-06-16T17:52:44.653117Z",
     "start_time": "2025-06-16T17:52:44.628127Z"
    }
   },
   "cell_type": "code",
   "source": [
    "packed_tuple=1,2,4,3.14\n",
    "print(packed_tuple)\n",
    "\n",
    "a,b,c,d=packed_tuple\n",
    "print(a,b,c,d)\n",
    "\n",
    "a,*middle,c=packed_tuple\n",
    "print(a)\n",
    "print(*middle)\n",
    "print(c)"
   ],
   "id": "6688fe64ceb4f47c",
   "outputs": [
    {
     "name": "stdout",
     "output_type": "stream",
     "text": [
      "(1, 2, 4, 3.14)\n",
      "1 2 4 3.14\n",
      "1\n",
      "2 4\n",
      "3.14\n"
     ]
    }
   ],
   "execution_count": 18
  },
  {
   "metadata": {
    "ExecuteTime": {
     "end_time": "2025-06-16T17:56:40.597223Z",
     "start_time": "2025-06-16T17:56:40.578256Z"
    }
   },
   "cell_type": "code",
   "source": [
    "nested_tuple=((1,2,\"Hello\"),(3,4,\"World\"))\n",
    "print(nested_tuple)\n",
    "print(*nested_tuple)\n",
    "print(nested_tuple[0])\n",
    "print(nested_tuple[1][2])\n",
    "\n",
    "for subtuples in nested_tuple:\n",
    "    for item in subtuples:\n",
    "        print(item,end=\" \")\n",
    "    print()"
   ],
   "id": "a17a8038232c15a",
   "outputs": [
    {
     "name": "stdout",
     "output_type": "stream",
     "text": [
      "((1, 2, 'Hello'), (3, 4, 'World'))\n",
      "(1, 2, 'Hello') (3, 4, 'World')\n",
      "(1, 2, 'Hello')\n",
      "World\n",
      "1 2 Hello \n",
      "3 4 World \n"
     ]
    }
   ],
   "execution_count": 25
  }
 ],
 "metadata": {
  "kernelspec": {
   "display_name": "Python 3",
   "language": "python",
   "name": "python3"
  },
  "language_info": {
   "codemirror_mode": {
    "name": "ipython",
    "version": 2
   },
   "file_extension": ".py",
   "mimetype": "text/x-python",
   "name": "python",
   "nbconvert_exporter": "python",
   "pygments_lexer": "ipython2",
   "version": "2.7.6"
  }
 },
 "nbformat": 4,
 "nbformat_minor": 5
}
