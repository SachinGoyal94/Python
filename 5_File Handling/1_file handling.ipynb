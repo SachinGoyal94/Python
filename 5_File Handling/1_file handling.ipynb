{
 "cells": [
  {
   "cell_type": "code",
   "id": "initial_id",
   "metadata": {
    "collapsed": true,
    "ExecuteTime": {
     "end_time": "2025-06-20T10:17:03.681825Z",
     "start_time": "2025-06-20T10:17:03.674937Z"
    }
   },
   "source": [
    "with open('example.txt','r') as file:\n",
    "    content=file.read()\n",
    "    print(content)"
   ],
   "outputs": [
    {
     "name": "stdout",
     "output_type": "stream",
     "text": [
      "Hello World\n",
      "this is an example file to read/write/append\n"
     ]
    }
   ],
   "execution_count": 20
  },
  {
   "metadata": {
    "ExecuteTime": {
     "end_time": "2025-06-20T10:22:23.838921Z",
     "start_time": "2025-06-20T10:22:23.834065Z"
    }
   },
   "cell_type": "code",
   "source": [
    "with open('example.txt','w') as file:\n",
    "    file.write(\"A new World \\n\")\n",
    "    file.write(\"is in build \\n\")"
   ],
   "id": "68af82887198c7ce",
   "outputs": [],
   "execution_count": 31
  },
  {
   "metadata": {
    "ExecuteTime": {
     "end_time": "2025-06-20T10:22:25.641561Z",
     "start_time": "2025-06-20T10:22:25.636712Z"
    }
   },
   "cell_type": "code",
   "source": [
    "with open('example.txt','a') as file:\n",
    "    file.write(\"Take care of this world \\n\")"
   ],
   "id": "9bef083e35a235d5",
   "outputs": [],
   "execution_count": 32
  },
  {
   "metadata": {
    "ExecuteTime": {
     "end_time": "2025-06-20T10:22:27.567944Z",
     "start_time": "2025-06-20T10:22:27.562191Z"
    }
   },
   "cell_type": "code",
   "source": [
    "with open('example.txt','r') as file:\n",
    "    for line in file:\n",
    "        #print(line)\n",
    "        print(line.strip())\n",
    "        #print(line) include a newline by default due to print so to get exact data of file use .strip()"
   ],
   "id": "fecced10d283f843",
   "outputs": [
    {
     "name": "stdout",
     "output_type": "stream",
     "text": [
      "A new World\n",
      "is in build\n",
      "Take care of this world\n"
     ]
    }
   ],
   "execution_count": 33
  },
  {
   "metadata": {
    "ExecuteTime": {
     "end_time": "2025-06-20T10:22:39.262332Z",
     "start_time": "2025-06-20T10:22:39.256928Z"
    }
   },
   "cell_type": "code",
   "source": [
    "with open('example.txt','a') as file:\n",
    "    list=['started with c++ \\n','to learning python\\n','A beautiful journey is going on\\n']\n",
    "    file.writelines(list)"
   ],
   "id": "e612077d0f31acbf",
   "outputs": [],
   "execution_count": 34
  },
  {
   "metadata": {
    "ExecuteTime": {
     "end_time": "2025-06-20T11:12:42.297668Z",
     "start_time": "2025-06-20T11:12:42.287691Z"
    }
   },
   "cell_type": "code",
   "source": [
    "with open('example.txt','w+') as file:\n",
    "    list=['started with c++ \\n','to learning python\\n','A beautiful journey is going on\\n']\n",
    "    file.writelines(list)\n",
    "    file.seek(0) #moving the pointer to begining of file\n",
    "    content=file.read()\n",
    "    print(content)"
   ],
   "id": "bb4029d032ac6894",
   "outputs": [
    {
     "name": "stdout",
     "output_type": "stream",
     "text": [
      "started with c++ \n",
      "to learning python\n",
      "A beautiful journey is going on\n",
      "\n"
     ]
    }
   ],
   "execution_count": 61
  },
  {
   "metadata": {
    "ExecuteTime": {
     "end_time": "2025-06-20T10:36:55.907839Z",
     "start_time": "2025-06-20T10:36:55.899517Z"
    }
   },
   "cell_type": "code",
   "source": [
    "data=b'\\x00\\x01\\x02'\n",
    "with open('examp.bin','wb') as file:\n",
    "    file.write(data)\n",
    "with open('examp.bin','rb') as file:\n",
    "    print(file.read())"
   ],
   "id": "c9f38f82f9fc831",
   "outputs": [
    {
     "name": "stdout",
     "output_type": "stream",
     "text": [
      "b'\\x00\\x01\\x02'\n"
     ]
    }
   ],
   "execution_count": 46
  },
  {
   "metadata": {
    "ExecuteTime": {
     "end_time": "2025-06-20T11:13:02.662478Z",
     "start_time": "2025-06-20T11:13:02.656106Z"
    }
   },
   "cell_type": "code",
   "source": [
    "def datacollector(filepath):\n",
    "    with open(filepath,'r')as file:\n",
    "        lines=file.readlines()\n",
    "        print(lines)\n",
    "        line_count=len(lines)\n",
    "        word_count=sum(len(line.split()) for line in lines)\n",
    "        char_count = len(set(char for line in lines for char in line if char != ' ' and char != '\\n'))\n",
    "        return line_count, word_count, char_count\n",
    "filepath='example.txt'\n",
    "line_counts,word_counts,char_counts=datacollector(filepath)\n",
    "print(line_counts)\n",
    "print(word_counts)\n",
    "print(char_counts)"
   ],
   "id": "24876386e500d698",
   "outputs": [
    {
     "name": "stdout",
     "output_type": "stream",
     "text": [
      "['started with c++ \\n', 'to learning python\\n', 'A beautiful journey is going on\\n']\n",
      "3\n",
      "12\n",
      "56\n"
     ]
    }
   ],
   "execution_count": 63
  }
 ],
 "metadata": {
  "kernelspec": {
   "display_name": "Python 3",
   "language": "python",
   "name": "python3"
  },
  "language_info": {
   "codemirror_mode": {
    "name": "ipython",
    "version": 2
   },
   "file_extension": ".py",
   "mimetype": "text/x-python",
   "name": "python",
   "nbconvert_exporter": "python",
   "pygments_lexer": "ipython2",
   "version": "2.7.6"
  }
 },
 "nbformat": 4,
 "nbformat_minor": 5
}
