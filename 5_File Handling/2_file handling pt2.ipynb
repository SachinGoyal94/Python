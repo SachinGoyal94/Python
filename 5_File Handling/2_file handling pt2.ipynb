{
 "cells": [
  {
   "cell_type": "code",
   "id": "initial_id",
   "metadata": {
    "collapsed": true,
    "ExecuteTime": {
     "end_time": "2025-06-20T11:17:37.065436Z",
     "start_time": "2025-06-20T11:17:37.060714Z"
    }
   },
   "source": [
    "import os\n",
    "print(os.getcwd())"
   ],
   "outputs": [
    {
     "name": "stdout",
     "output_type": "stream",
     "text": [
      "D:\\coding\\Python\\5_File Handling\n"
     ]
    }
   ],
   "execution_count": 5
  },
  {
   "metadata": {
    "ExecuteTime": {
     "end_time": "2025-06-20T11:17:46.795712Z",
     "start_time": "2025-06-20T11:17:46.791711Z"
    }
   },
   "cell_type": "code",
   "source": "os.mkdir('package')",
   "id": "9e9b09d3d5c1b5a9",
   "outputs": [],
   "execution_count": 6
  },
  {
   "metadata": {
    "ExecuteTime": {
     "end_time": "2025-06-20T11:18:57.719266Z",
     "start_time": "2025-06-20T11:18:57.713949Z"
    }
   },
   "cell_type": "code",
   "source": [
    "items=os.listdir('.')\n",
    "print(items)"
   ],
   "id": "4fe8d3bafc46e2b9",
   "outputs": [
    {
     "name": "stdout",
     "output_type": "stream",
     "text": [
      "['2_file handling pt2.ipynb', '5_file handling.ipynb', 'examp.bin', 'example.txt', 'package']\n"
     ]
    }
   ],
   "execution_count": 9
  },
  {
   "metadata": {
    "ExecuteTime": {
     "end_time": "2025-06-20T11:22:59.811336Z",
     "start_time": "2025-06-20T11:22:59.804333Z"
    }
   },
   "cell_type": "code",
   "source": [
    "#joining paths\n",
    "dir_name=\"folder\"\n",
    "file_name=\"file\"\n",
    "full_path=os.path.join(dir_name,file_name)\n",
    "print(full_path)"
   ],
   "id": "8d5160c76c554895",
   "outputs": [
    {
     "name": "stdout",
     "output_type": "stream",
     "text": [
      "folder\\file\n"
     ]
    }
   ],
   "execution_count": 12
  },
  {
   "metadata": {
    "ExecuteTime": {
     "end_time": "2025-06-20T11:23:28.039940Z",
     "start_time": "2025-06-20T11:23:28.034976Z"
    }
   },
   "cell_type": "code",
   "source": [
    "#joining paths\n",
    "dir_name=\"folder\"\n",
    "file_name=\"file\"\n",
    "full_path=os.path.join(os.getcwd(),dir_name,file_name)\n",
    "print(full_path)"
   ],
   "id": "20fd9781fb107754",
   "outputs": [
    {
     "name": "stdout",
     "output_type": "stream",
     "text": [
      "D:\\coding\\Python\\5_File Handling\\folder\\file\n"
     ]
    }
   ],
   "execution_count": 13
  },
  {
   "metadata": {
    "ExecuteTime": {
     "end_time": "2025-06-20T11:24:45.956211Z",
     "start_time": "2025-06-20T11:24:45.949794Z"
    }
   },
   "cell_type": "code",
   "source": [
    "filepath='example.txt'\n",
    "if os.path.exists(filepath):\n",
    "    print(f\"the file {filepath} exists\")\n",
    "else:\n",
    "    print(f\"the file {filepath} does not exist\")"
   ],
   "id": "f7ca58648d50c740",
   "outputs": [
    {
     "name": "stdout",
     "output_type": "stream",
     "text": [
      "the file example.txt exists\n"
     ]
    }
   ],
   "execution_count": 14
  },
  {
   "metadata": {
    "ExecuteTime": {
     "end_time": "2025-06-20T11:51:40.303853Z",
     "start_time": "2025-06-20T11:51:40.277247Z"
    }
   },
   "cell_type": "code",
   "source": [
    "filepath='example.txt'\n",
    "if os.path.isfile(filepath):\n",
    "    print(f\"the file {filepath} is a file\")\n",
    "elif os.path.isdir(filepath):\n",
    "    print(f\"the directory {filepath} is a directory\")\n",
    "else:\n",
    "    print(f\"the file {filepath} is neither a directory nor a file\")"
   ],
   "id": "6e7897a17e7ed282",
   "outputs": [
    {
     "name": "stdout",
     "output_type": "stream",
     "text": [
      "the file example.txt is a file\n"
     ]
    }
   ],
   "execution_count": 15
  },
  {
   "metadata": {
    "ExecuteTime": {
     "end_time": "2025-06-20T11:53:19.473305Z",
     "start_time": "2025-06-20T11:53:19.459791Z"
    }
   },
   "cell_type": "code",
   "source": [
    "relative_path='example.txt' #file is located inside a folder so a relative path\n",
    "absolute_path=os.path.abspath(relative_path)\n",
    "print(absolute_path)"
   ],
   "id": "bde03f255eae9813",
   "outputs": [
    {
     "name": "stdout",
     "output_type": "stream",
     "text": [
      "D:\\coding\\Python\\5_File Handling\\example.txt\n"
     ]
    }
   ],
   "execution_count": 16
  }
 ],
 "metadata": {
  "kernelspec": {
   "display_name": "Python 3",
   "language": "python",
   "name": "python3"
  },
  "language_info": {
   "codemirror_mode": {
    "name": "ipython",
    "version": 2
   },
   "file_extension": ".py",
   "mimetype": "text/x-python",
   "name": "python",
   "nbconvert_exporter": "python",
   "pygments_lexer": "ipython2",
   "version": "2.7.6"
  }
 },
 "nbformat": 4,
 "nbformat_minor": 5
}
