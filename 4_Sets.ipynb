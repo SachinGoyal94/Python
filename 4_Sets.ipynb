{
 "cells": [
  {
   "metadata": {
    "ExecuteTime": {
     "end_time": "2025-06-17T17:03:31.245260Z",
     "start_time": "2025-06-17T17:03:31.234158Z"
    }
   },
   "cell_type": "code",
   "source": [
    "# Creating a set and demonstrating set behavior\n",
    "'''{} gives dict always '''\n",
    "sets = {1, 2, 3, 4, 1, 2, 3, 4}\n",
    "print(sets, type(sets))  # Duplicates are removed in a set\n",
    "\n",
    "# Creating a new set with mixed types\n",
    "new_set = set([\"hello World\", 3.14])\n",
    "print(new_set)\n",
    "\n",
    "# Adding an element\n",
    "new_set.add(\"added\")\n",
    "print(new_set)\n",
    "\n",
    "# Removing an element\n",
    "new_set.remove(\"added\")\n",
    "print(new_set)\n",
    "\n",
    "# Add again\n",
    "new_set.add(\"added\")\n",
    "\n",
    "'''\n",
    "remove() raises an error if the element is not found,\n",
    "whereas discard() does nothing in that case\n",
    "'''\n",
    "new_set.discard(11)  # No error even if 11 isn't present\n",
    "# new_set.remove(111111)  # Would raise an error if uncommented\n",
    "\n",
    "# pop() removes and returns a random element\n",
    "popped = new_set.pop()\n",
    "print(new_set)\n",
    "\n",
    "# clear() removes all elements\n",
    "new_set.clear()\n",
    "print('after removing', new_set)\n",
    "\n",
    "# Membership tests\n",
    "new_set = {\"hello World\", 3.14}\n",
    "print(\"hello World\" in new_set)\n",
    "print(\"first message\" in new_set)"
   ],
   "id": "fa047e366cda6ec2",
   "outputs": [
    {
     "name": "stdout",
     "output_type": "stream",
     "text": [
      "{1, 2, 3, 4} <class 'set'>\n",
      "{3.14, 'hello World'}\n",
      "{'added', 3.14, 'hello World'}\n",
      "{3.14, 'hello World'}\n",
      "{3.14, 'hello World'}\n",
      "after removing set()\n",
      "True\n",
      "False\n"
     ]
    }
   ],
   "execution_count": 35
  },
  {
   "metadata": {},
   "cell_type": "raw",
   "source": "",
   "id": "7eaccba2daff33e0",
   "outputs": null,
   "execution_count": null
  },
  {
   "metadata": {},
   "cell_type": "markdown",
   "source": [
    "MatheMatical Operations\n",
    "\n",
    "Intersection Update modifies original set by just keeping intersecting values\n",
    "\n",
    "Subset A<=B\n",
    "SuperSet A>=B\n",
    "Proper Subset A>B"
   ],
   "id": "2700b728ae962e71"
  },
  {
   "metadata": {
    "ExecuteTime": {
     "end_time": "2025-06-17T16:14:04.958449Z",
     "start_time": "2025-06-17T16:14:04.940763Z"
    }
   },
   "cell_type": "code",
   "source": [
    "set1={1,2,3,4,5,6}\n",
    "set2={4,5,6,7,8,9}\n",
    "print(set1.union(set2))\n",
    "print(set1.intersection(set2))\n",
    "print(set1.difference(set2))\n",
    "print(set1.symmetric_difference(set2))\n",
    "\n",
    "set1.intersection_update(set2)\n",
    "print(set1)\n",
    "print(set2)\n",
    "\n",
    "set1={4,5,6}\n",
    "set2={4,5,6,7,8,9}\n",
    "print(set1.issubset(set2))\n",
    "print(set1.issuperset(set2))\n",
    "print(set2.issuperset(set1))\n",
    "print(set1.isdisjoint(set2))\n",
    "if set1<set2:\n",
    "    print(\"set 2 is a proper subset\")\n",
    "elif set1>set2:\n",
    "    print(\"set 1 is a proper subset\")\n",
    "else:\n",
    "    print(\"set 1 and set2 are equal subsets\")\n",
    "\n",
    "text=\"Counting the no of unique words in the text\"\n",
    "unique_words = set(text.split())\n",
    "print(unique_words)\n",
    "print(len(unique_words))\n"
   ],
   "id": "83310f907ebcace3",
   "outputs": [
    {
     "name": "stdout",
     "output_type": "stream",
     "text": [
      "{1, 2, 3, 4, 5, 6, 7, 8, 9}\n",
      "{4, 5, 6}\n",
      "{1, 2, 3}\n",
      "{1, 2, 3, 7, 8, 9}\n",
      "{4, 5, 6}\n",
      "{4, 5, 6, 7, 8, 9}\n",
      "True\n",
      "False\n",
      "True\n",
      "False\n",
      "set 2 is a proper subset\n",
      "{'the', 'Counting', 'no', 'in', 'unique', 'text', 'words', 'of'}\n",
      "8\n"
     ]
    }
   ],
   "execution_count": 33
  }
 ],
 "metadata": {
  "kernelspec": {
   "display_name": "Python 3",
   "language": "python",
   "name": "python3"
  },
  "language_info": {
   "codemirror_mode": {
    "name": "ipython",
    "version": 3
   },
   "file_extension": ".py",
   "mimetype": "text/x-python",
   "name": "python",
   "nbconvert_exporter": "python",
   "pygments_lexer": "ipython3",
   "version": "3.13.4"
  }
 },
 "nbformat": 4,
 "nbformat_minor": 5
}
