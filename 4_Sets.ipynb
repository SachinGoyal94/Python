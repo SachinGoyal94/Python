{
 "cells": [
  {
   "cell_type": "code",
   "id": "db01818d16fa79b9",
   "metadata": {},
   "source": [
    "sets={1,2,3,4,1,2,3,4}\n",
    "print(sets,type(sets))\n",
    "new_set=set([\"hello World\",3.14])\n",
    "print(new_set)\n",
    "\n",
    "new_set.add(\"added\")\n",
    "print(new_set)\n",
    "new_set.remove(\"added\")\n",
    "print(new_set)\n",
    "\n",
    "new_set.add(\"added\")\n",
    "\n",
    "'''\n",
    "remove raises error if element not found \n",
    "whereas discard doesn't\n",
    "'''\n",
    "new_set.discard(11)\n",
    "'''new_set.remove(111111)'''\n",
    "\n",
    "''' pop method is used to return randomlt removed element '''\n",
    "popped=new_set.pop()\n",
    "print(new_set)\n",
    "\n",
    "new_set.clear()\n",
    "print('after removing ',new_set)\n",
    "\n",
    "new_set={\"hello World\",3.14}\n",
    "print(\"hello World\" in new_set)\n",
    "print(\"first message\" in new_set)"
   ],
   "outputs": [],
   "execution_count": null
  },
  {
   "metadata": {},
   "cell_type": "markdown",
   "source": [
    "Mathematical Operations\n",
    "\n",
    "Intersection update modifies original set by keeping only intersecting values only\n",
    "\n",
    "Subset A<=B\n",
    "Proper Subset A < B\n",
    "Super Set B>=A"
   ],
   "id": "c18cf3fedfa298e9"
  },
  {
   "metadata": {
    "ExecuteTime": {
     "end_time": "2025-06-17T14:43:39.126882Z",
     "start_time": "2025-06-17T14:43:39.112588Z"
    }
   },
   "cell_type": "code",
   "source": [
    "set1={1,2,3,4,5,6}\n",
    "set2={11,12,13,14,5,6}\n",
    "print(set1.union(set2))\n",
    "print(set1.intersection(set2))\n",
    "print(set1.difference(set2))\n",
    "print(set1.symmetric_difference(set2))\n",
    "print(set1)\n",
    "print(set2)\n",
    "set1.intersection_update(set2)\n",
    "print(set1)\n",
    "print(set2)\n",
    "\n",
    "set1={1,2,3,4,5,6}\n",
    "print(set1.difference(set2))\n",
    "\n",
    "set3={1,2,3}\n",
    "set4={1,2,3,4,5,6}\n",
    "print(set3.issubset(set3))\n",
    "print(set4.issuperset(set3))\n",
    "if set4<=set3:\n",
    "    print(\"not a proper subset\")\n",
    "else:\n",
    "    print(\"proper subset\")\n",
    "\n",
    "set5={1,2}\n",
    "set6={3,4}\n",
    "print(set5.isdisjoint(set6))"
   ],
   "id": "bc357eaabe65fc30",
   "outputs": [
    {
     "name": "stdout",
     "output_type": "stream",
     "text": [
      "{1, 2, 3, 4, 5, 6, 11, 12, 13, 14}\n",
      "{5, 6}\n",
      "{1, 2, 3, 4}\n",
      "{1, 2, 3, 4, 11, 12, 13, 14}\n",
      "{1, 2, 3, 4, 5, 6}\n",
      "{5, 6, 11, 12, 13, 14}\n",
      "{5, 6}\n",
      "{5, 6, 11, 12, 13, 14}\n",
      "{1, 2, 3, 4}\n",
      "True\n",
      "True\n",
      "proper subset\n",
      "True\n"
     ]
    }
   ],
   "execution_count": 25
  },
  {
   "metadata": {
    "ExecuteTime": {
     "end_time": "2025-06-17T14:51:00.840998Z",
     "start_time": "2025-06-17T14:51:00.834065Z"
    }
   },
   "cell_type": "code",
   "source": [
    "text=\"Counting unique no of words in a sentence\"\n",
    "words=text.split()\n",
    "unique_words=set(words)\n",
    "print(unique_words)\n",
    "print(len(unique_words))"
   ],
   "id": "7145cb6f5d75d343",
   "outputs": [
    {
     "name": "stdout",
     "output_type": "stream",
     "text": [
      "{'a', 'Counting', 'no', 'in', 'sentence', 'unique', 'words', 'of'}\n",
      "8\n"
     ]
    }
   ],
   "execution_count": 27
  }
 ],
 "metadata": {
  "kernelspec": {
   "display_name": "Python 3",
   "language": "python",
   "name": "python3"
  },
  "language_info": {
   "codemirror_mode": {
    "name": "ipython",
    "version": 3
   },
   "file_extension": ".py",
   "mimetype": "text/x-python",
   "name": "python",
   "nbconvert_exporter": "python",
   "pygments_lexer": "ipython3",
   "version": "3.13.4"
  }
 },
 "nbformat": 4,
 "nbformat_minor": 5
}
