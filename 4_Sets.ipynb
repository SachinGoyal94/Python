{
 "cells": [
  {
   "cell_type": "code",
   "id": "db01818d16fa79b9",
   "metadata": {
    "ExecuteTime": {
     "end_time": "2025-06-16T19:40:36.457705Z",
     "start_time": "2025-06-16T19:40:36.443074Z"
    }
   },
   "source": [
    "sets={1,2,3,4,1,2,3,4}\n",
    "print(sets,type(sets))\n",
    "new_set=set([\"hello World\",3.14])\n",
    "print(new_set)\n",
    "\n",
    "new_set.add(\"added\")\n",
    "print(new_set)\n",
    "new_set.remove(\"added\")\n",
    "print(new_set)\n",
    "\n",
    "new_set.add(\"added\")\n",
    "\n",
    "'''\n",
    "remove raises error if element not found \n",
    "whereas discard doesn't\n",
    "'''\n",
    "new_set.discard(11)\n",
    "'''new_set.remove(111111)'''\n",
    "\n",
    "''' pop method is used to return randomlt removed element '''\n",
    "popped=new_set.pop()\n",
    "print(new_set)\n",
    "\n",
    "new_set.clear()\n",
    "print('after removing ',new_set)\n",
    "\n",
    "new_set={\"hello World\",3.14}\n",
    "print(\"hello World\" in new_set)\n",
    "print(\"first message\" in new_set)"
   ],
   "outputs": [
    {
     "name": "stdout",
     "output_type": "stream",
     "text": [
      "{1, 2, 3, 4} <class 'set'>\n",
      "{3.14, 'hello World'}\n",
      "{3.14, 'hello World', 'added'}\n",
      "{3.14, 'hello World'}\n",
      "{'hello World', 'added'}\n",
      "after removing  set()\n",
      "True\n",
      "False\n"
     ]
    }
   ],
   "execution_count": 19
  }
 ],
 "metadata": {
  "kernelspec": {
   "display_name": "Python 3",
   "language": "python",
   "name": "python3"
  },
  "language_info": {
   "codemirror_mode": {
    "name": "ipython",
    "version": 3
   },
   "file_extension": ".py",
   "mimetype": "text/x-python",
   "name": "python",
   "nbconvert_exporter": "python",
   "pygments_lexer": "ipython3",
   "version": "3.13.4"
  }
 },
 "nbformat": 4,
 "nbformat_minor": 5
}
