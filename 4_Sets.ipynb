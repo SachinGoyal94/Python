{
 "cells": [
  {
   "cell_type": "code",
   "id": "db01818d16fa79b9",
   "metadata": {},
   "source": [
    "sets={1,2,3,4,1,2,3,4}\n",
    "print(sets,type(sets))\n",
    "new_set=set([\"hello World\",3.14])\n",
    "print(new_set)\n",
    "\n",
    "new_set.add(\"added\")\n",
    "print(new_set)\n",
    "new_set.remove(\"added\")\n",
    "print(new_set)\n",
    "\n",
    "new_set.add(\"added\")\n",
    "\n",
    "'''\n",
    "remove raises error if element not found \n",
    "whereas discard doesn't\n",
    "'''\n",
    "new_set.discard(11)\n",
    "'''new_set.remove(111111)'''\n",
    "\n",
    "''' pop method is used to return randomlt removed element '''\n",
    "popped=new_set.pop()\n",
    "print(new_set)\n",
    "\n",
    "new_set.clear()\n",
    "print('after removing ',new_set)\n",
    "\n",
    "new_set={\"hello World\",3.14}\n",
    "print(\"hello World\" in new_set)\n",
    "print(\"first message\" in new_set)"
   ],
   "outputs": [],
   "execution_count": null
  }
 ],
 "metadata": {
  "kernelspec": {
   "display_name": "Python 3",
   "language": "python",
   "name": "python3"
  },
  "language_info": {
   "codemirror_mode": {
    "name": "ipython",
    "version": 3
   },
   "file_extension": ".py",
   "mimetype": "text/x-python",
   "name": "python",
   "nbconvert_exporter": "python",
   "pygments_lexer": "ipython3",
   "version": "3.13.4"
  }
 },
 "nbformat": 4,
 "nbformat_minor": 5
}
