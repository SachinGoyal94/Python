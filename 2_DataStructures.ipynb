{
  "nbformat": 4,
  "nbformat_minor": 0,
  "metadata": {
    "colab": {
      "provenance": [],
      "authorship_tag": "ABX9TyMpPOQBiJfvGSLkP63Y7cVA",
      "include_colab_link": true
    },
    "kernelspec": {
      "name": "python3",
      "display_name": "Python 3"
    },
    "language_info": {
      "name": "python"
    }
  },
  "cells": [
    {
      "cell_type": "markdown",
      "metadata": {
        "id": "view-in-github",
        "colab_type": "text"
      },
      "source": [
        "<a href=\"https://colab.research.google.com/github/SachinGoyal94/Python/blob/main/2_DataStructures.ipynb\" target=\"_parent\"><img src=\"https://colab.research.google.com/assets/colab-badge.svg\" alt=\"Open In Colab\"/></a>"
      ]
    },
    {
      "cell_type": "code",
      "source": [
        "'''\n",
        "lists indexed with 0\n",
        "ordered mutable\n",
        "'''"
      ],
      "metadata": {
        "id": "OnJnAPhN-scp"
      },
      "execution_count": null,
      "outputs": []
    },
    {
      "cell_type": "code",
      "source": [
        "lists=[1,2,\"Sachin\",\"Goyal\",3.14]\n",
        "print(lists,type(lists))"
      ],
      "metadata": {
        "colab": {
          "base_uri": "https://localhost:8080/"
        },
        "id": "GiPBno4ZgSKy",
        "outputId": "1329d089-4040-4076-b425-bddde8d1a527"
      },
      "execution_count": 42,
      "outputs": [
        {
          "output_type": "stream",
          "name": "stdout",
          "text": [
            "[1, 2, 'Sachin', 'Goyal', 3.14] <class 'list'>\n"
          ]
        }
      ]
    },
    {
      "cell_type": "code",
      "source": [
        "for i in range(len(lists)):\n",
        "  print(lists[i])"
      ],
      "metadata": {
        "colab": {
          "base_uri": "https://localhost:8080/"
        },
        "id": "EiKx9fO2gbl0",
        "outputId": "f0848ff3-60d9-4697-ba34-7c4c6ece2de9"
      },
      "execution_count": 44,
      "outputs": [
        {
          "output_type": "stream",
          "name": "stdout",
          "text": [
            "1\n",
            "2\n",
            "Sachin\n",
            "Goyal\n",
            "3.14\n"
          ]
        }
      ]
    },
    {
      "cell_type": "code",
      "source": [
        "print(lists[1:])\n",
        "print(lists[:4:2])"
      ],
      "metadata": {
        "colab": {
          "base_uri": "https://localhost:8080/"
        },
        "id": "A5SCthKVg3gN",
        "outputId": "76fc50a9-2ba9-43cb-b45d-b194bc4bae42"
      },
      "execution_count": 49,
      "outputs": [
        {
          "output_type": "stream",
          "name": "stdout",
          "text": [
            "[2, 'Sachin', 'Goyal', 3.14]\n",
            "[1, 'Sachin']\n"
          ]
        }
      ]
    },
    {
      "cell_type": "code",
      "source": [
        "print(lists)\n",
        "lists[1]=\"banana\"\n",
        "print(lists)"
      ],
      "metadata": {
        "colab": {
          "base_uri": "https://localhost:8080/"
        },
        "id": "yLtRHxcwhJwa",
        "outputId": "ee9fe221-eaef-46ed-a19c-7f239efe7d8d"
      },
      "execution_count": 50,
      "outputs": [
        {
          "output_type": "stream",
          "name": "stdout",
          "text": [
            "[1, 2, 'Sachin', 'Goyal', 3.14]\n",
            "[1, 'banana', 'Sachin', 'Goyal', 3.14]\n"
          ]
        }
      ]
    },
    {
      "cell_type": "code",
      "source": [
        "lists[1:]=\"watermelon\"\n",
        "print(lists)"
      ],
      "metadata": {
        "colab": {
          "base_uri": "https://localhost:8080/"
        },
        "id": "Vick25g8hS1y",
        "outputId": "040cd478-e700-4387-d6ee-8f84fafba72c"
      },
      "execution_count": 51,
      "outputs": [
        {
          "output_type": "stream",
          "name": "stdout",
          "text": [
            "[1, 'w', 'a', 't', 'e', 'r', 'm', 'e', 'l', 'o', 'n']\n"
          ]
        }
      ]
    },
    {
      "cell_type": "code",
      "source": [
        "lists=[1,2,\"Sachin\",\"Goyal\",3.14]\n",
        "\n",
        "lists.append(\"Name\")\n",
        "print(lists)\n",
        "\n",
        "lists.insert(1,3.14)\n",
        "print(lists)\n",
        "\n",
        "print(lists.pop())\n",
        "print(lists)\n",
        "\n",
        "print(lists.count(3.14))\n",
        "\n",
        "lists.remove(3.14)   #removes first occurence of 3.14\n",
        "print(lists)"
      ],
      "metadata": {
        "colab": {
          "base_uri": "https://localhost:8080/"
        },
        "id": "1sd3xJE2hXq0",
        "outputId": "bf339575-d8f0-4972-8b6f-021c5748e6eb"
      },
      "execution_count": 60,
      "outputs": [
        {
          "output_type": "stream",
          "name": "stdout",
          "text": [
            "[1, 2, 'Sachin', 'Goyal', 3.14, 'Name']\n",
            "[1, 3.14, 2, 'Sachin', 'Goyal', 3.14, 'Name']\n",
            "Name\n",
            "[1, 3.14, 2, 'Sachin', 'Goyal', 3.14]\n",
            "2\n",
            "[1, 2, 'Sachin', 'Goyal', 3.14]\n"
          ]
        }
      ]
    },
    {
      "cell_type": "code",
      "source": [
        "print(lists.index(3.14))"
      ],
      "metadata": {
        "colab": {
          "base_uri": "https://localhost:8080/"
        },
        "id": "LFSk5ba3h1ZM",
        "outputId": "594be5c0-dc77-4fe3-bbc8-06befabec5b9"
      },
      "execution_count": 61,
      "outputs": [
        {
          "output_type": "stream",
          "name": "stdout",
          "text": [
            "4\n"
          ]
        }
      ]
    },
    {
      "cell_type": "code",
      "source": [
        "lists=[1,1000,23,34,12,123]\n",
        "\n",
        "lists.sort()\n",
        "print(lists)\n",
        "\n",
        "lists.reverse()\n",
        "print(lists)\n",
        "\n",
        "print(lists[::2 ])\n",
        "\n",
        "print(lists[::-2])\n",
        "\n",
        "lists.clear()\n",
        "print(lists)"
      ],
      "metadata": {
        "colab": {
          "base_uri": "https://localhost:8080/"
        },
        "id": "qTGBErAyh5Kv",
        "outputId": "4e6f55a7-52e1-4bb9-d1e3-2da1dba8969b"
      },
      "execution_count": 76,
      "outputs": [
        {
          "output_type": "stream",
          "name": "stdout",
          "text": [
            "[1, 12, 23, 34, 123, 1000]\n",
            "[1000, 123, 34, 23, 12, 1]\n",
            "[1000, 34, 12]\n",
            "[1, 23, 123]\n",
            "[]\n"
          ]
        }
      ]
    }
  ]
}