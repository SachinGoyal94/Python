{
  "nbformat": 4,
  "nbformat_minor": 0,
  "metadata": {
    "colab": {
      "provenance": [],
      "authorship_tag": "ABX9TyOdt0YBi2+QGlxLZ4cTscmi",
      "include_colab_link": true
    },
    "kernelspec": {
      "name": "python3",
      "display_name": "Python 3"
    },
    "language_info": {
      "name": "python"
    }
  },
  "cells": [
    {
      "cell_type": "markdown",
      "metadata": {
        "id": "view-in-github",
        "colab_type": "text"
      },
      "source": [
        "<a href=\"https://colab.research.google.com/github/SachinGoyal94/Python/blob/main/2_DataStructures.ipynb\" target=\"_parent\"><img src=\"https://colab.research.google.com/assets/colab-badge.svg\" alt=\"Open In Colab\"/></a>"
      ]
    },
    {
      "cell_type": "code",
      "source": [
        "'''\n",
        "lists indexed with 0\n",
        "ordered mutable\n",
        "'''"
      ],
      "metadata": {
        "id": "OnJnAPhN-scp"
      },
      "execution_count": null,
      "outputs": []
    },
    {
      "cell_type": "code",
      "source": [
        "lists=[1,2,\"Sachin\",\"Goyal\",3.14]\n",
        "print(lists,type(lists))"
      ],
      "metadata": {
        "colab": {
          "base_uri": "https://localhost:8080/"
        },
        "id": "GiPBno4ZgSKy",
        "outputId": "1329d089-4040-4076-b425-bddde8d1a527"
      },
      "execution_count": null,
      "outputs": [
        {
          "output_type": "stream",
          "name": "stdout",
          "text": [
            "[1, 2, 'Sachin', 'Goyal', 3.14] <class 'list'>\n"
          ]
        }
      ]
    },
    {
      "cell_type": "code",
      "source": [
        "for i in range(len(lists)):\n",
        "  print(lists[i])"
      ],
      "metadata": {
        "colab": {
          "base_uri": "https://localhost:8080/"
        },
        "id": "EiKx9fO2gbl0",
        "outputId": "f0848ff3-60d9-4697-ba34-7c4c6ece2de9"
      },
      "execution_count": null,
      "outputs": [
        {
          "output_type": "stream",
          "name": "stdout",
          "text": [
            "1\n",
            "2\n",
            "Sachin\n",
            "Goyal\n",
            "3.14\n"
          ]
        }
      ]
    },
    {
      "cell_type": "code",
      "source": [
        "print(lists[1:])\n",
        "print(lists[:4:2])"
      ],
      "metadata": {
        "colab": {
          "base_uri": "https://localhost:8080/"
        },
        "id": "A5SCthKVg3gN",
        "outputId": "76fc50a9-2ba9-43cb-b45d-b194bc4bae42"
      },
      "execution_count": null,
      "outputs": [
        {
          "output_type": "stream",
          "name": "stdout",
          "text": [
            "[2, 'Sachin', 'Goyal', 3.14]\n",
            "[1, 'Sachin']\n"
          ]
        }
      ]
    },
    {
      "cell_type": "code",
      "source": [
        "print(lists)\n",
        "lists[1]=\"banana\"\n",
        "print(lists)"
      ],
      "metadata": {
        "colab": {
          "base_uri": "https://localhost:8080/"
        },
        "id": "yLtRHxcwhJwa",
        "outputId": "ee9fe221-eaef-46ed-a19c-7f239efe7d8d"
      },
      "execution_count": null,
      "outputs": [
        {
          "output_type": "stream",
          "name": "stdout",
          "text": [
            "[1, 2, 'Sachin', 'Goyal', 3.14]\n",
            "[1, 'banana', 'Sachin', 'Goyal', 3.14]\n"
          ]
        }
      ]
    },
    {
      "cell_type": "code",
      "source": [
        "lists[1:]=\"watermelon\"\n",
        "print(lists)"
      ],
      "metadata": {
        "colab": {
          "base_uri": "https://localhost:8080/"
        },
        "id": "Vick25g8hS1y",
        "outputId": "040cd478-e700-4387-d6ee-8f84fafba72c"
      },
      "execution_count": null,
      "outputs": [
        {
          "output_type": "stream",
          "name": "stdout",
          "text": [
            "[1, 'w', 'a', 't', 'e', 'r', 'm', 'e', 'l', 'o', 'n']\n"
          ]
        }
      ]
    },
    {
      "cell_type": "code",
      "source": [
        "lists=[1,2,\"Sachin\",\"Goyal\",3.14]\n",
        "\n",
        "lists.append(\"Name\")\n",
        "print(lists)\n",
        "\n",
        "lists.insert(1,3.14)\n",
        "print(lists)\n",
        "\n",
        "print(lists.pop())\n",
        "print(lists)\n",
        "\n",
        "print(lists.count(3.14))\n",
        "\n",
        "lists.remove(3.14)   #removes first occurence of 3.14\n",
        "print(lists)"
      ],
      "metadata": {
        "colab": {
          "base_uri": "https://localhost:8080/"
        },
        "id": "1sd3xJE2hXq0",
        "outputId": "bf339575-d8f0-4972-8b6f-021c5748e6eb"
      },
      "execution_count": null,
      "outputs": [
        {
          "output_type": "stream",
          "name": "stdout",
          "text": [
            "[1, 2, 'Sachin', 'Goyal', 3.14, 'Name']\n",
            "[1, 3.14, 2, 'Sachin', 'Goyal', 3.14, 'Name']\n",
            "Name\n",
            "[1, 3.14, 2, 'Sachin', 'Goyal', 3.14]\n",
            "2\n",
            "[1, 2, 'Sachin', 'Goyal', 3.14]\n"
          ]
        }
      ]
    },
    {
      "cell_type": "code",
      "source": [
        "print(lists.index(3.14))"
      ],
      "metadata": {
        "colab": {
          "base_uri": "https://localhost:8080/"
        },
        "id": "LFSk5ba3h1ZM",
        "outputId": "594be5c0-dc77-4fe3-bbc8-06befabec5b9"
      },
      "execution_count": null,
      "outputs": [
        {
          "output_type": "stream",
          "name": "stdout",
          "text": [
            "4\n"
          ]
        }
      ]
    },
    {
      "cell_type": "code",
      "source": [
        "lists=[1,1000,23,34,12,123]\n",
        "\n",
        "lists.sort()\n",
        "print(lists)\n",
        "\n",
        "lists.reverse()\n",
        "print(lists)\n",
        "\n",
        "print(lists[::2 ])\n",
        "\n",
        "print(lists[::-2])\n",
        "\n",
        "lists.clear()\n",
        "print(lists)"
      ],
      "metadata": {
        "colab": {
          "base_uri": "https://localhost:8080/"
        },
        "id": "qTGBErAyh5Kv",
        "outputId": "c740b1ac-0593-42d6-89b3-31b9104696c2"
      },
      "execution_count": 2,
      "outputs": [
        {
          "output_type": "stream",
          "name": "stdout",
          "text": [
            "[1, 12, 23, 34, 123, 1000]\n",
            "[1000, 123, 34, 23, 12, 1]\n",
            "[1000, 34, 12]\n",
            "[1, 23, 123]\n",
            "[]\n"
          ]
        }
      ]
    },
    {
      "cell_type": "markdown",
      "source": [
        "enumerate is used to print index and their values together"
      ],
      "metadata": {
        "id": "xYH1-RJCzrt3"
      }
    },
    {
      "cell_type": "code",
      "source": [
        "lists=[1,1000,23,34,12,123]\n",
        "for index,values in enumerate(lists):\n",
        "  print(index,values)"
      ],
      "metadata": {
        "colab": {
          "base_uri": "https://localhost:8080/"
        },
        "id": "xzD_a3fbzRST",
        "outputId": "1d96904e-9809-4868-b3bb-a06cf56d4b0b"
      },
      "execution_count": 5,
      "outputs": [
        {
          "output_type": "stream",
          "name": "stdout",
          "text": [
            "0 1\n",
            "1 1000\n",
            "2 23\n",
            "3 34\n",
            "4 12\n",
            "5 123\n"
          ]
        }
      ]
    },
    {
      "cell_type": "markdown",
      "source": [
        "list comprehension\n",
        "\n",
        "*   Basic  list=[expression for item in variable ]\n",
        "*   Advanced  list=[expression for item in variable if condition ]\n",
        "*   Nested list=[[i,j] for i in list1 for j in list2]"
      ],
      "metadata": {
        "id": "sMUTTpRJ0bfu"
      }
    },
    {
      "cell_type": "code",
      "source": [
        "lists=[i*i for i in range(10)]\n",
        "adv=[i*i for i in range(10) if i%2==0 ]\n",
        "nested=[[i,j] for i in lists for j in adv]\n",
        "print(lists)\n",
        "print(adv)\n",
        "print(nested)"
      ],
      "metadata": {
        "colab": {
          "base_uri": "https://localhost:8080/"
        },
        "id": "pEof6WRo0ZjZ",
        "outputId": "e1f888cf-04c8-4694-f72a-a9419022a42a"
      },
      "execution_count": 8,
      "outputs": [
        {
          "output_type": "stream",
          "name": "stdout",
          "text": [
            "[0, 1, 4, 9, 16, 25, 36, 49, 64, 81]\n",
            "[0, 4, 16, 36, 64]\n",
            "[[0, 0], [0, 4], [0, 16], [0, 36], [0, 64], [1, 0], [1, 4], [1, 16], [1, 36], [1, 64], [4, 0], [4, 4], [4, 16], [4, 36], [4, 64], [9, 0], [9, 4], [9, 16], [9, 36], [9, 64], [16, 0], [16, 4], [16, 16], [16, 36], [16, 64], [25, 0], [25, 4], [25, 16], [25, 36], [25, 64], [36, 0], [36, 4], [36, 16], [36, 36], [36, 64], [49, 0], [49, 4], [49, 16], [49, 36], [49, 64], [64, 0], [64, 4], [64, 16], [64, 36], [64, 64], [81, 0], [81, 4], [81, 16], [81, 36], [81, 64]]\n"
          ]
        }
      ]
    }
  ]
}